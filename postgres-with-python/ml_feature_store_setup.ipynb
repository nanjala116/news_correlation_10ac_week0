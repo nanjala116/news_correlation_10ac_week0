{
 "cells": [
  {
   "cell_type": "code",
   "execution_count": null,
   "metadata": {},
   "outputs": [],
   "source": [
    "import psycopg2\n",
    "from sqlalchemy import create_engine\n",
    "import pandas as pd"
   ]
  },
  {
   "cell_type": "markdown",
   "metadata": {},
   "source": [
    "### **Connect DB**"
   ]
  },
  {
   "cell_type": "code",
   "execution_count": null,
   "metadata": {},
   "outputs": [],
   "source": [
    "# Database connection parameters\n",
    "dbname = 'news_articles'\n",
    "user = 'postgres'\n",
    "password = 'pass123'\n",
    "host = 'localhost'\n",
    "port = '5432'\n",
    "\n",
    "# Establishing the connection\n",
    "connection = psycopg2.connect(\n",
    "    dbname=dbname,\n",
    "    user=user,\n",
    "    password=password,\n",
    "    host=host,\n",
    "    port=port\n",
    ")\n",
    "\n",
    "# Creating a cursor object\n",
    "cursor = connection.cursor()\n",
    "\n",
    "# Executing a SQL query to check connection\n",
    "cursor.execute('SELECT version();')\n",
    "result = cursor.fetchone()\n",
    "print(f\"PostgreSQL version: {result}\")\n",
    "\n"
   ]
  },
  {
   "cell_type": "markdown",
   "metadata": {},
   "source": [
    "### Creating the Schema and Table with IF NOT EXISTS"
   ]
  },
  {
   "cell_type": "code",
   "execution_count": null,
   "metadata": {},
   "outputs": [],
   "source": [
    "\n",
    "create_schema_query = \"CREATE SCHEMA IF NOT EXISTS sentiment_analysis;\"\n",
    "cursor.execute(create_schema_query)\n",
    "connection.commit()\n",
    "\n",
    "create_table_query = \"\"\"\n",
    "CREATE TABLE IF NOT EXISTS news.articles (\n",
    "    article_id SERIAL PRIMARY KEY,\n",
    "    title TEXT NOT NULL,\n",
    "    description TEXT,\n",
    "    content TEXT,\n",
    "    category VARCHAR(255),\n",
    "    title_sentiment VARCHAR(50),\n",
    "    title_sentiment_score FLOAT,\n",
    "    standardized_sentiment_score FLOAT,\n",
    "    title_keywords TEXT[],\n",
    "    content_keywords TEXT[],\n",
    "    title_content_similarity FLOAT,\n",
    "    title_content_cosine_similarity FLOAT,\n",
    "    dominant_topic VARCHAR(255),\n",
    "    event_cluster INT\n",
    ");\n",
    "\"\"\"\n",
    "cursor.execute(create_table_query)\n",
    "connection.commit()\n",
    "\n"
   ]
  },
  {
   "cell_type": "markdown",
   "metadata": {},
   "source": [
    "### Inserting Data"
   ]
  },
  {
   "cell_type": "code",
   "execution_count": null,
   "metadata": {},
   "outputs": [],
   "source": [
    "\n",
    "insert_query = \"\"\"\n",
    "INSERT INTO news.articles (\n",
    "    title, description, content, category, title_sentiment, title_sentiment_score,\n",
    "    standardized_sentiment_score, title_keywords, content_keywords,\n",
    "    title_content_similarity, title_content_cosine_similarity, dominant_topic, event_cluster\n",
    ") VALUES (%s, %s, %s, %s, %s, %s, %s, %s, %s, %s, %s, %s, %s)\n",
    "\"\"\"\n",
    "article_data = (\n",
    "    'Sample Title', 'Sample Description', 'Sample Content', 'Sample Category',\n",
    "    'positive', 0.9, 0.85, ['keyword1', 'keyword2'], ['keywordA', 'keywordB'],\n",
    "    0.75, 0.65, 'Topic A', 1\n",
    ")\n",
    "cursor.execute(insert_query, article_data)\n",
    "connection.commit()\n",
    "\n"
   ]
  },
  {
   "cell_type": "markdown",
   "metadata": {},
   "source": [
    "### Updating Data"
   ]
  },
  {
   "cell_type": "code",
   "execution_count": null,
   "metadata": {},
   "outputs": [],
   "source": [
    "\n",
    "update_query = \"\"\"\n",
    "UPDATE news.articles\n",
    "SET title_sentiment_score = %s\n",
    "WHERE article_id = %s\n",
    "\"\"\"\n",
    "update_data = (0.95, 1)  # Example values\n",
    "cursor.execute(update_query, update_data)\n",
    "connection.commit()\n",
    "\n"
   ]
  },
  {
   "cell_type": "markdown",
   "metadata": {},
   "source": [
    "### View Records"
   ]
  },
  {
   "cell_type": "code",
   "execution_count": null,
   "metadata": {},
   "outputs": [],
   "source": [
    "\n",
    "select_query = \"SELECT * FROM news.articles;\"\n",
    "import pprint\n",
    "cursor.execute(select_query)\n",
    "\n",
    "rows = cursor.fetchall()\n",
    "for row in rows:\n",
    "    pprint.pprint(row)\n",
    "\n"
   ]
  },
  {
   "cell_type": "markdown",
   "metadata": {},
   "source": [
    "### DataFrame to SQL"
   ]
  },
  {
   "cell_type": "code",
   "execution_count": null,
   "metadata": {},
   "outputs": [],
   "source": [
    "engine = create_engine(f'postgresql+psycopg2://{user}:{password}@{host}:{port}/{dbname}')\n",
    "\n",
    "# Example DataFrame\n",
    "df = pd.DataFrame({\n",
    "    'title': ['Example Title 1', 'Example Title 2'],\n",
    "    'description': ['Example Description 1', 'Example Description 2'],\n",
    "    'content': ['Example Content 1', 'Example Content 2'],\n",
    "    'category': ['Category 1', 'Category 2'],\n",
    "    'title_sentiment': ['positive', 'neutral'],\n",
    "    'title_sentiment_score': [0.9, 0.5],\n",
    "    'standardized_sentiment_score': [0.85, 0.55],\n",
    "    'title_keywords': [['keyword1', 'keyword2'], ['keyword3', 'keyword4']],\n",
    "    'content_keywords': [['keywordA', 'keywordB'], ['keywordC', 'keywordD']],\n",
    "    'title_content_similarity': [0.75, 0.60],\n",
    "    'title_content_cosine_similarity': [0.65, 0.55],\n",
    "    'dominant_topic': ['Topic A', 'Topic B'],\n",
    "    'event_cluster': [1, 2]\n",
    "})\n",
    "df.to_sql('articles', engine, schema='sentiment_analysis', if_exists='replace', index=False)\n",
    "\n",
    "# Closing the cursor and connection\n",
    "cursor.close()\n",
    "connection.close()"
   ]
  }
 ],
 "metadata": {
  "language_info": {
   "name": "python"
  }
 },
 "nbformat": 4,
 "nbformat_minor": 2
}
