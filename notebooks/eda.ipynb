{
 "cells": [
  {
   "cell_type": "markdown",
   "metadata": {},
   "source": [
    "Data Understanding"
   ]
  },
  {
   "cell_type": "code",
   "execution_count": 2,
   "metadata": {},
   "outputs": [],
   "source": [
    "import pandas as pd\n",
    "import numpy as np\n",
    "from tabulate import tabulate\n",
    "import matplotlib.pyplot as plt\n",
    "import seaborn as sns\n",
    "import tldextract\n",
    "from sklearn.preprocessing import StandardScaler"
   ]
  },
  {
   "cell_type": "markdown",
   "metadata": {},
   "source": [
    "Import Data"
   ]
  },
  {
   "cell_type": "code",
   "execution_count": 3,
   "metadata": {},
   "outputs": [
    {
     "ename": "FileNotFoundError",
     "evalue": "[Errno 2] No such file or directory: '../data/rating.csv'",
     "output_type": "error",
     "traceback": [
      "\u001b[1;31m---------------------------------------------------------------------------\u001b[0m",
      "\u001b[1;31mFileNotFoundError\u001b[0m                         Traceback (most recent call last)",
      "Cell \u001b[1;32mIn[3], line 6\u001b[0m\n\u001b[0;32m      3\u001b[0m domains_location_path \u001b[38;5;241m=\u001b[39m \u001b[38;5;124m'\u001b[39m\u001b[38;5;124m../data/domains_location.csv\u001b[39m\u001b[38;5;124m'\u001b[39m\n\u001b[0;32m      4\u001b[0m traffic_path \u001b[38;5;241m=\u001b[39m \u001b[38;5;124m'\u001b[39m\u001b[38;5;124m../data/traffic.csv\u001b[39m\u001b[38;5;124m'\u001b[39m\n\u001b[1;32m----> 6\u001b[0m rating_df \u001b[38;5;241m=\u001b[39m pd\u001b[38;5;241m.\u001b[39mread_csv(rating_path)\n\u001b[0;32m      7\u001b[0m domains_location_df \u001b[38;5;241m=\u001b[39m pd\u001b[38;5;241m.\u001b[39mread_csv(domains_location_path)\n\u001b[0;32m      8\u001b[0m traffic_data_df \u001b[38;5;241m=\u001b[39m pd\u001b[38;5;241m.\u001b[39mread_csv(traffic_path)\n",
      "File \u001b[1;32mc:\\Users\\ZAWADI\\anaconda3\\Lib\\site-packages\\pandas\\io\\parsers\\readers.py:1026\u001b[0m, in \u001b[0;36mread_csv\u001b[1;34m(filepath_or_buffer, sep, delimiter, header, names, index_col, usecols, dtype, engine, converters, true_values, false_values, skipinitialspace, skiprows, skipfooter, nrows, na_values, keep_default_na, na_filter, verbose, skip_blank_lines, parse_dates, infer_datetime_format, keep_date_col, date_parser, date_format, dayfirst, cache_dates, iterator, chunksize, compression, thousands, decimal, lineterminator, quotechar, quoting, doublequote, escapechar, comment, encoding, encoding_errors, dialect, on_bad_lines, delim_whitespace, low_memory, memory_map, float_precision, storage_options, dtype_backend)\u001b[0m\n\u001b[0;32m   1013\u001b[0m kwds_defaults \u001b[38;5;241m=\u001b[39m _refine_defaults_read(\n\u001b[0;32m   1014\u001b[0m     dialect,\n\u001b[0;32m   1015\u001b[0m     delimiter,\n\u001b[1;32m   (...)\u001b[0m\n\u001b[0;32m   1022\u001b[0m     dtype_backend\u001b[38;5;241m=\u001b[39mdtype_backend,\n\u001b[0;32m   1023\u001b[0m )\n\u001b[0;32m   1024\u001b[0m kwds\u001b[38;5;241m.\u001b[39mupdate(kwds_defaults)\n\u001b[1;32m-> 1026\u001b[0m \u001b[38;5;28;01mreturn\u001b[39;00m _read(filepath_or_buffer, kwds)\n",
      "File \u001b[1;32mc:\\Users\\ZAWADI\\anaconda3\\Lib\\site-packages\\pandas\\io\\parsers\\readers.py:620\u001b[0m, in \u001b[0;36m_read\u001b[1;34m(filepath_or_buffer, kwds)\u001b[0m\n\u001b[0;32m    617\u001b[0m _validate_names(kwds\u001b[38;5;241m.\u001b[39mget(\u001b[38;5;124m\"\u001b[39m\u001b[38;5;124mnames\u001b[39m\u001b[38;5;124m\"\u001b[39m, \u001b[38;5;28;01mNone\u001b[39;00m))\n\u001b[0;32m    619\u001b[0m \u001b[38;5;66;03m# Create the parser.\u001b[39;00m\n\u001b[1;32m--> 620\u001b[0m parser \u001b[38;5;241m=\u001b[39m TextFileReader(filepath_or_buffer, \u001b[38;5;241m*\u001b[39m\u001b[38;5;241m*\u001b[39mkwds)\n\u001b[0;32m    622\u001b[0m \u001b[38;5;28;01mif\u001b[39;00m chunksize \u001b[38;5;129;01mor\u001b[39;00m iterator:\n\u001b[0;32m    623\u001b[0m     \u001b[38;5;28;01mreturn\u001b[39;00m parser\n",
      "File \u001b[1;32mc:\\Users\\ZAWADI\\anaconda3\\Lib\\site-packages\\pandas\\io\\parsers\\readers.py:1620\u001b[0m, in \u001b[0;36mTextFileReader.__init__\u001b[1;34m(self, f, engine, **kwds)\u001b[0m\n\u001b[0;32m   1617\u001b[0m     \u001b[38;5;28mself\u001b[39m\u001b[38;5;241m.\u001b[39moptions[\u001b[38;5;124m\"\u001b[39m\u001b[38;5;124mhas_index_names\u001b[39m\u001b[38;5;124m\"\u001b[39m] \u001b[38;5;241m=\u001b[39m kwds[\u001b[38;5;124m\"\u001b[39m\u001b[38;5;124mhas_index_names\u001b[39m\u001b[38;5;124m\"\u001b[39m]\n\u001b[0;32m   1619\u001b[0m \u001b[38;5;28mself\u001b[39m\u001b[38;5;241m.\u001b[39mhandles: IOHandles \u001b[38;5;241m|\u001b[39m \u001b[38;5;28;01mNone\u001b[39;00m \u001b[38;5;241m=\u001b[39m \u001b[38;5;28;01mNone\u001b[39;00m\n\u001b[1;32m-> 1620\u001b[0m \u001b[38;5;28mself\u001b[39m\u001b[38;5;241m.\u001b[39m_engine \u001b[38;5;241m=\u001b[39m \u001b[38;5;28mself\u001b[39m\u001b[38;5;241m.\u001b[39m_make_engine(f, \u001b[38;5;28mself\u001b[39m\u001b[38;5;241m.\u001b[39mengine)\n",
      "File \u001b[1;32mc:\\Users\\ZAWADI\\anaconda3\\Lib\\site-packages\\pandas\\io\\parsers\\readers.py:1880\u001b[0m, in \u001b[0;36mTextFileReader._make_engine\u001b[1;34m(self, f, engine)\u001b[0m\n\u001b[0;32m   1878\u001b[0m     \u001b[38;5;28;01mif\u001b[39;00m \u001b[38;5;124m\"\u001b[39m\u001b[38;5;124mb\u001b[39m\u001b[38;5;124m\"\u001b[39m \u001b[38;5;129;01mnot\u001b[39;00m \u001b[38;5;129;01min\u001b[39;00m mode:\n\u001b[0;32m   1879\u001b[0m         mode \u001b[38;5;241m+\u001b[39m\u001b[38;5;241m=\u001b[39m \u001b[38;5;124m\"\u001b[39m\u001b[38;5;124mb\u001b[39m\u001b[38;5;124m\"\u001b[39m\n\u001b[1;32m-> 1880\u001b[0m \u001b[38;5;28mself\u001b[39m\u001b[38;5;241m.\u001b[39mhandles \u001b[38;5;241m=\u001b[39m get_handle(\n\u001b[0;32m   1881\u001b[0m     f,\n\u001b[0;32m   1882\u001b[0m     mode,\n\u001b[0;32m   1883\u001b[0m     encoding\u001b[38;5;241m=\u001b[39m\u001b[38;5;28mself\u001b[39m\u001b[38;5;241m.\u001b[39moptions\u001b[38;5;241m.\u001b[39mget(\u001b[38;5;124m\"\u001b[39m\u001b[38;5;124mencoding\u001b[39m\u001b[38;5;124m\"\u001b[39m, \u001b[38;5;28;01mNone\u001b[39;00m),\n\u001b[0;32m   1884\u001b[0m     compression\u001b[38;5;241m=\u001b[39m\u001b[38;5;28mself\u001b[39m\u001b[38;5;241m.\u001b[39moptions\u001b[38;5;241m.\u001b[39mget(\u001b[38;5;124m\"\u001b[39m\u001b[38;5;124mcompression\u001b[39m\u001b[38;5;124m\"\u001b[39m, \u001b[38;5;28;01mNone\u001b[39;00m),\n\u001b[0;32m   1885\u001b[0m     memory_map\u001b[38;5;241m=\u001b[39m\u001b[38;5;28mself\u001b[39m\u001b[38;5;241m.\u001b[39moptions\u001b[38;5;241m.\u001b[39mget(\u001b[38;5;124m\"\u001b[39m\u001b[38;5;124mmemory_map\u001b[39m\u001b[38;5;124m\"\u001b[39m, \u001b[38;5;28;01mFalse\u001b[39;00m),\n\u001b[0;32m   1886\u001b[0m     is_text\u001b[38;5;241m=\u001b[39mis_text,\n\u001b[0;32m   1887\u001b[0m     errors\u001b[38;5;241m=\u001b[39m\u001b[38;5;28mself\u001b[39m\u001b[38;5;241m.\u001b[39moptions\u001b[38;5;241m.\u001b[39mget(\u001b[38;5;124m\"\u001b[39m\u001b[38;5;124mencoding_errors\u001b[39m\u001b[38;5;124m\"\u001b[39m, \u001b[38;5;124m\"\u001b[39m\u001b[38;5;124mstrict\u001b[39m\u001b[38;5;124m\"\u001b[39m),\n\u001b[0;32m   1888\u001b[0m     storage_options\u001b[38;5;241m=\u001b[39m\u001b[38;5;28mself\u001b[39m\u001b[38;5;241m.\u001b[39moptions\u001b[38;5;241m.\u001b[39mget(\u001b[38;5;124m\"\u001b[39m\u001b[38;5;124mstorage_options\u001b[39m\u001b[38;5;124m\"\u001b[39m, \u001b[38;5;28;01mNone\u001b[39;00m),\n\u001b[0;32m   1889\u001b[0m )\n\u001b[0;32m   1890\u001b[0m \u001b[38;5;28;01massert\u001b[39;00m \u001b[38;5;28mself\u001b[39m\u001b[38;5;241m.\u001b[39mhandles \u001b[38;5;129;01mis\u001b[39;00m \u001b[38;5;129;01mnot\u001b[39;00m \u001b[38;5;28;01mNone\u001b[39;00m\n\u001b[0;32m   1891\u001b[0m f \u001b[38;5;241m=\u001b[39m \u001b[38;5;28mself\u001b[39m\u001b[38;5;241m.\u001b[39mhandles\u001b[38;5;241m.\u001b[39mhandle\n",
      "File \u001b[1;32mc:\\Users\\ZAWADI\\anaconda3\\Lib\\site-packages\\pandas\\io\\common.py:873\u001b[0m, in \u001b[0;36mget_handle\u001b[1;34m(path_or_buf, mode, encoding, compression, memory_map, is_text, errors, storage_options)\u001b[0m\n\u001b[0;32m    868\u001b[0m \u001b[38;5;28;01melif\u001b[39;00m \u001b[38;5;28misinstance\u001b[39m(handle, \u001b[38;5;28mstr\u001b[39m):\n\u001b[0;32m    869\u001b[0m     \u001b[38;5;66;03m# Check whether the filename is to be opened in binary mode.\u001b[39;00m\n\u001b[0;32m    870\u001b[0m     \u001b[38;5;66;03m# Binary mode does not support 'encoding' and 'newline'.\u001b[39;00m\n\u001b[0;32m    871\u001b[0m     \u001b[38;5;28;01mif\u001b[39;00m ioargs\u001b[38;5;241m.\u001b[39mencoding \u001b[38;5;129;01mand\u001b[39;00m \u001b[38;5;124m\"\u001b[39m\u001b[38;5;124mb\u001b[39m\u001b[38;5;124m\"\u001b[39m \u001b[38;5;129;01mnot\u001b[39;00m \u001b[38;5;129;01min\u001b[39;00m ioargs\u001b[38;5;241m.\u001b[39mmode:\n\u001b[0;32m    872\u001b[0m         \u001b[38;5;66;03m# Encoding\u001b[39;00m\n\u001b[1;32m--> 873\u001b[0m         handle \u001b[38;5;241m=\u001b[39m \u001b[38;5;28mopen\u001b[39m(\n\u001b[0;32m    874\u001b[0m             handle,\n\u001b[0;32m    875\u001b[0m             ioargs\u001b[38;5;241m.\u001b[39mmode,\n\u001b[0;32m    876\u001b[0m             encoding\u001b[38;5;241m=\u001b[39mioargs\u001b[38;5;241m.\u001b[39mencoding,\n\u001b[0;32m    877\u001b[0m             errors\u001b[38;5;241m=\u001b[39merrors,\n\u001b[0;32m    878\u001b[0m             newline\u001b[38;5;241m=\u001b[39m\u001b[38;5;124m\"\u001b[39m\u001b[38;5;124m\"\u001b[39m,\n\u001b[0;32m    879\u001b[0m         )\n\u001b[0;32m    880\u001b[0m     \u001b[38;5;28;01melse\u001b[39;00m:\n\u001b[0;32m    881\u001b[0m         \u001b[38;5;66;03m# Binary mode\u001b[39;00m\n\u001b[0;32m    882\u001b[0m         handle \u001b[38;5;241m=\u001b[39m \u001b[38;5;28mopen\u001b[39m(handle, ioargs\u001b[38;5;241m.\u001b[39mmode)\n",
      "\u001b[1;31mFileNotFoundError\u001b[0m: [Errno 2] No such file or directory: '../data/rating.csv'"
     ]
    }
   ],
   "source": [
    "# Load datasets\n",
    "rating_path = '../data/rating.csv'\n",
    "domains_location_path = '../data/domains_location.csv'\n",
    "traffic_path = '../data/traffic.csv'\n",
    "\n",
    "rating_df = pd.read_csv(rating_path)\n",
    "domains_location_df = pd.read_csv(domains_location_path)\n",
    "traffic_data_df = pd.read_csv(traffic_path)"
   ]
  },
  {
   "cell_type": "code",
   "execution_count": null,
   "metadata": {},
   "outputs": [],
   "source": [
    "# Display first few rows of each dataset\n",
    "print(\"Rating.csv:\\n\", tabulate(rating_df.head(), headers='keys', tablefmt='psql'))\n",
    "print(\"\\nDomains Location.csv:\\n\", tabulate(domains_location_df.head(), headers='keys', tablefmt='psql'))\n",
    "print(\"\\nTraffic Data.csv:\\n\", tabulate(traffic_data_df.head(), headers='keys', tablefmt='psql'))"
   ]
  },
  {
   "cell_type": "code",
   "execution_count": null,
   "metadata": {},
   "outputs": [],
   "source": [
    "# Function to print column names and shape\n",
    "def print_info(df, df_name):\n",
    "    print(f\"{df_name} columns: {df.columns.tolist()}\")\n",
    "    print(f\"{df_name} shape: The df has {df.shape[0]} rows and {df.shape[1]} columns.\\n\")\n",
    "\n",
    "# Print information for each data set\n",
    "print_info(rating_df, 'rating_df')\n",
    "print_info(domains_location_df, 'domains_location_df')\n",
    "print_info(traffic_data_df, 'traffic_data_df')"
   ]
  },
  {
   "cell_type": "markdown",
   "metadata": {},
   "source": [
    "Feature Engineering"
   ]
  },
  {
   "cell_type": "code",
   "execution_count": null,
   "metadata": {},
   "outputs": [],
   "source": [
    "# Function to extract domain\n",
    "def extract_domain(url):\n",
    "    ext = tldextract.extract(url)\n",
    "    return f\"{ext.domain}.{ext.suffix}\"\n",
    "\n",
    "# Apply the function to the 'url' column\n",
    "rating_df['domain'] = rating_df['url'].apply(extract_domain)\n",
    "\n",
    "# Display the first few rows to verify\n",
    "print(rating_df[['url', 'domain']].head())\n"
   ]
  },
  {
   "cell_type": "code",
   "execution_count": null,
   "metadata": {},
   "outputs": [],
   "source": [
    "# Get unique counts of domains\n",
    "unique_rating_domains = rating_df['domain'].nunique()\n",
    "unique_location_domains = domains_location_df['SourceCommonName'].nunique()\n",
    "unique_traffic_domains = traffic_data_df['Domain'].nunique()\n",
    "\n",
    "print(f\"Unique domains in rating_df: {unique_rating_domains}\")\n",
    "print(f\"Unique domains in domains_location_df: {unique_location_domains}\")\n",
    "print(f\"Unique domains in traffic_data_df: {unique_traffic_domains}\")"
   ]
  },
  {
   "cell_type": "code",
   "execution_count": null,
   "metadata": {},
   "outputs": [],
   "source": [
    "# Define the mapping for sentiment values\n",
    "sentiment_mapping = {'Positive': 1, 'Neutral': 0, 'Negative': -1}\n",
    "\n",
    "# Apply the mapping to the title_sentiment column\n",
    "rating_df['title_sentiment_score'] = rating_df['title_sentiment'].map(sentiment_mapping)\n",
    "\n",
    "# Verify the changes\n",
    "print(rating_df[['title_sentiment', 'title_sentiment_score']].head())\n"
   ]
  },
  {
   "cell_type": "code",
   "execution_count": null,
   "metadata": {},
   "outputs": [],
   "source": [
    "# Merge rating_df with domains_location_df\n",
    "merged_df = pd.merge(rating_df, domains_location_df, left_on='domain', right_on='SourceCommonName', how='left')\n",
    "\n",
    "# Merge the resulting DataFrame with traffic_data_df\n",
    "final_df = pd.merge(merged_df, traffic_data_df, left_on='domain', right_on='Domain', how='left')\n",
    "\n",
    "# Display the first few rows to verify\n",
    "print(final_df.head())"
   ]
  },
  {
   "cell_type": "code",
   "execution_count": null,
   "metadata": {},
   "outputs": [],
   "source": [
    "# Function to print column names and shape\n",
    "def print_info(df, df_name):\n",
    "    print(f\"{df_name} columns: {df.columns.tolist()}\")\n",
    "    print(f\"{df_name} shape: The df has {df.shape[0]} rows and {df.shape[1]} columns.\\n\")\n",
    "\n",
    "# Print information for the data set\n",
    "print_info(final_df, 'final_df')"
   ]
  },
  {
   "cell_type": "markdown",
   "metadata": {},
   "source": [
    "Data Preparation"
   ]
  },
  {
   "cell_type": "code",
   "execution_count": null,
   "metadata": {},
   "outputs": [],
   "source": [
    "# Function to check for missing values\n",
    "def check_missing_values(df):\n",
    "    total_rows = len(df)\n",
    "    missing_info = df.isnull().sum()\n",
    "    for column, missing_count in missing_info.items():\n",
    "        if missing_count > 0:\n",
    "            missing_percentage = (missing_count / total_rows) * 100\n",
    "            print(f\"The {column} column has {missing_count} missing values which is {missing_percentage:.2f}% of the column.\")\n",
    "\n",
    "check_missing_values(final_df)"
   ]
  },
  {
   "cell_type": "markdown",
   "metadata": {},
   "source": [
    "Handle Missing Values"
   ]
  },
  {
   "cell_type": "code",
   "execution_count": null,
   "metadata": {},
   "outputs": [],
   "source": [
    "# Drop source_id column\n",
    "if 'source_id' in final_df.columns:\n",
    "    final_df = final_df.drop(columns=['source_id'])\n",
    "\n",
    "# Impute missing values\n",
    "fill_values = {\n",
    "    'author': 'Unknown',\n",
    "    'description': 'No description available',\n",
    "    'url_to_image': 'No image available',\n",
    "    'category': 'Uncategorized',\n",
    "    'SourceCommonName': 'Unknown',\n",
    "    'location': 'Unknown',\n",
    "    'Country': 'Unknown'\n",
    "}\n",
    "\n",
    "final_df.fillna(value=fill_values, inplace=True)\n",
    "\n",
    "# Verify that there are no missing values\n",
    "check_missing_values(final_df)"
   ]
  },
  {
   "cell_type": "code",
   "execution_count": null,
   "metadata": {},
   "outputs": [],
   "source": [
    "# Summary statistics and data types\n",
    "print(\"\\nfinal_df summary:\")\n",
    "print(final_df.describe(include='all'))\n",
    "print(\"\\nfinal_df data types:\")\n",
    "print(final_df.dtypes)"
   ]
  },
  {
   "cell_type": "markdown",
   "metadata": {},
   "source": [
    "Dropping Irrelevant Columns and Feature Engineering"
   ]
  },
  {
   "cell_type": "code",
   "execution_count": null,
   "metadata": {},
   "outputs": [],
   "source": [
    "# Convert 'published_at' to datetime with explicit format\n",
    "final_df['published_at'] = pd.to_datetime(final_df['published_at'], format='%Y-%m-%d %H:%M:%S.%f', errors='coerce')\n",
    "\n",
    "# Extract date-related features\n",
    "final_df['published_year'] = final_df['published_at'].dt.year\n",
    "final_df['published_month'] = final_df['published_at'].dt.month\n",
    "final_df['published_day'] = final_df['published_at'].dt.day\n",
    "\n",
    "# Check for NaT values in the 'published_at' column\n",
    "print(final_df['published_at'].isna().sum())\n"
   ]
  },
  {
   "cell_type": "code",
   "execution_count": null,
   "metadata": {},
   "outputs": [],
   "source": [
    "# Check for missing values\n",
    "print(check_missing_values(final_df))"
   ]
  },
  {
   "cell_type": "code",
   "execution_count": null,
   "metadata": {},
   "outputs": [],
   "source": [
    "columns_to_drop = [\n",
    "    #'article_id', 'source_name', 'url_to_image', 'article', \n",
    "    #'TLD', 'IDN_Domain', 'IDN_TLD', 'PrevGlobalRank', \n",
    "    #'PrevTldRank', 'PrevRefSubNets', 'PrevRefIPs', \n",
    "    'published_at',\n",
    "    'published_year', 'published_month', 'published_day'\n",
    "]\n",
    "\n",
    "columns_to_drop = [col for col in columns_to_drop if col in final_df.columns]\n",
    "\n",
    "final_df = final_df.drop(columns=columns_to_drop)\n",
    "\n",
    "print(check_missing_values(final_df))\n",
    "\n",
    "# Verify the changes\n",
    "print(final_df.columns)"
   ]
  },
  {
   "cell_type": "code",
   "execution_count": null,
   "metadata": {},
   "outputs": [],
   "source": [
    "# Calculate content length\n",
    "final_df['content_length'] = final_df['content'].str.len()\n",
    "\n",
    "# Calculate title word count\n",
    "final_df['title_word_count'] = final_df['title'].str.split().apply(len)\n",
    "\n",
    "# Convert title_sentiment to numerical scores if needed\n",
    "sentiment_mapping = {'positive': 1, 'neutral': 0, 'negative': -1}\n",
    "final_df['title_sentiment_score'] = final_df['title_sentiment'].map(sentiment_mapping)\n",
    "\n",
    "# Display the first few rows to verify\n",
    "print(final_df.head())"
   ]
  },
  {
   "cell_type": "markdown",
   "metadata": {},
   "source": [
    "Outliers"
   ]
  },
  {
   "cell_type": "code",
   "execution_count": null,
   "metadata": {},
   "outputs": [],
   "source": [
    "# Function to plot box plots for numerical columns with enhanced visuals\n",
    "def plot_boxplots(df):\n",
    "    # Select numerical columns\n",
    "    numerical_columns = df.select_dtypes(include=['float64', 'int64']).columns\n",
    "    \n",
    "    # Set the overall style\n",
    "    sns.set(style=\"whitegrid\")\n",
    "\n",
    "    for column in numerical_columns:\n",
    "        # Check if the column has more than one unique value and no NaN values\n",
    "        if df[column].nunique() > 1 and df[column].notna().sum() > 0:\n",
    "            plt.figure(figsize=(12, 6))  # Increase figure size for better readability\n",
    "            sns.boxplot(x=df[column], color='skyblue')  # Add a color for distinction\n",
    "            plt.title(f'Box Plot of {column}', fontsize=16)  # Add a title with larger font size\n",
    "            plt.xlabel(column, fontsize=14)  # Label the x-axis with a larger font size\n",
    "            plt.grid(True, linestyle='--', alpha=0.7)  # Add gridlines for better readability\n",
    "            plt.show()\n",
    "        else:\n",
    "            print(f\"Skipping {column} due to insufficient data for plotting.\")\n",
    "\n",
    "# Call the function to plot boxplots for final_df\n",
    "plot_boxplots(final_df)"
   ]
  },
  {
   "cell_type": "code",
   "execution_count": null,
   "metadata": {},
   "outputs": [],
   "source": [
    "# Function to identify outliers using Z-score\n",
    "def find_outliers_zscore(df, threshold=3):\n",
    "    # Select numerical columns\n",
    "    numerical_columns = df.select_dtypes(include=['float64', 'int64']).columns\n",
    "    \n",
    "    outliers_dict = {}  # Dictionary to store outliers by column\n",
    "    \n",
    "    for column in numerical_columns:\n",
    "        # Calculate Z-scores\n",
    "        z_scores = np.abs((df[column] - df[column].mean()) / df[column].std())\n",
    "        \n",
    "        # Identify outliers\n",
    "        outliers = df[column][z_scores > threshold]\n",
    "        \n",
    "        # Store outliers in the dictionary\n",
    "        if not outliers.empty:\n",
    "            outliers_dict[column] = outliers\n",
    "    \n",
    "    return outliers_dict\n",
    "\n",
    "# Call the function to find outliers for final_df\n",
    "outliers = find_outliers_zscore(final_df)\n",
    "\n",
    "# Print the outliers found\n",
    "if outliers:\n",
    "    for column, outlier_values in outliers.items():\n",
    "        print(f\"Outliers detected in column '{column}':\")\n",
    "        print(outlier_values)\n",
    "        print(\"\\n\")\n",
    "else:\n",
    "    print(\"No outliers detected using the Z-score method.\")\n"
   ]
  },
  {
   "cell_type": "code",
   "execution_count": null,
   "metadata": {},
   "outputs": [],
   "source": [
    "# Function to plot histograms and display descriptive statistics\n",
    "def plot_histograms(df):\n",
    "    numerical_columns = df.select_dtypes(include=['float64', 'int64']).columns\n",
    "    for column in numerical_columns:\n",
    "        plt.figure(figsize=(10, 5))\n",
    "        sns.histplot(df[column], kde=True, color='blue')\n",
    "        plt.title(f'Distribution of {column}')\n",
    "        plt.show()\n",
    "\n",
    "        # Descriptive statistics\n",
    "        mean = df[column].mean()\n",
    "        median = df[column].median()\n",
    "        std_dev = df[column].std()\n",
    "        print(f\"{column} - Mean: {mean}, Median: {median}, Std Dev: {std_dev}\\n\")\n",
    "\n",
    "plot_histograms(final_df)\n"
   ]
  },
  {
   "cell_type": "code",
   "execution_count": null,
   "metadata": {},
   "outputs": [],
   "source": [
    "# Function to plot bar charts for categorical data and display value counts\n",
    "#def plot_bar_charts(df):\n",
    "    #categorical_columns = df.select_dtypes(include=['object']).columns\n",
    "    #for column in categorical_columns:\n",
    "        #plt.figure(figsize=(10, 5))\n",
    "        #df[column].value_counts().plot(kind='bar', color='green')\n",
    "        #plt.title(f'Bar Chart of {column}')\n",
    "        #plt.show()\n",
    "\n",
    "        # Display value counts\n",
    "        #print(f\"Value Counts for {column}:\")\n",
    "        #print(df[column].value_counts(), \"\\n\")\n",
    "\n",
    "#plot_bar_charts(final_df)\n"
   ]
  },
  {
   "cell_type": "code",
   "execution_count": null,
   "metadata": {},
   "outputs": [],
   "source": [
    "# Group sources with less than a threshold into 'Other'\n",
    "threshold = 500\n",
    "source_counts = final_df['source_name'].value_counts()\n",
    "grouped_sources = source_counts[source_counts >= threshold]\n",
    "grouped_sources['Other'] = source_counts[source_counts < threshold].sum()\n",
    "\n",
    "# Plot the grouped sources as a bar chart\n",
    "plt.figure(figsize=(12, 6))\n",
    "grouped_sources.plot(kind='bar', color='blue')\n",
    "plt.title('Article Count by Source (Grouped)')\n",
    "plt.xlabel('Source Name')\n",
    "plt.ylabel('Count')\n",
    "plt.show()\n",
    "\n",
    "# Plot the same data as a pie chart\n",
    "plt.figure(figsize=(10, 10))\n",
    "grouped_sources.plot(kind='pie', autopct='%1.1f%%', startangle=140)\n",
    "plt.title('Article Distribution by Source (Grouped)')\n",
    "plt.ylabel('')  # Hide the y-label for a cleaner pie chart\n",
    "plt.show()\n"
   ]
  },
  {
   "cell_type": "code",
   "execution_count": null,
   "metadata": {},
   "outputs": [],
   "source": [
    "# Calculate the percentage contribution of each source\n",
    "percentage_contribution = (source_counts / len(final_df)) * 100\n",
    "print(percentage_contribution)"
   ]
  },
  {
   "cell_type": "markdown",
   "metadata": {},
   "source": [
    "Exploratory Data Analysis"
   ]
  },
  {
   "cell_type": "markdown",
   "metadata": {},
   "source": [
    "1.1 Top and Bottom 10 Websites by News Articles Count"
   ]
  },
  {
   "cell_type": "code",
   "execution_count": null,
   "metadata": {},
   "outputs": [],
   "source": [
    "# Top 10 websites with the largest count of news articles\n",
    "top_10_websites = final_df['source_name'].value_counts().head(10)\n",
    "print(\"Top 10 Websites by Article Count:\\n\", top_10_websites)\n",
    "\n",
    "# Bottom 10 websites with the smallest count of news articles\n",
    "bottom_10_websites = final_df['source_name'].value_counts().tail(10)\n",
    "print(\"\\nBottom 10 Websites by Article Count:\\n\", bottom_10_websites)\n"
   ]
  },
  {
   "cell_type": "markdown",
   "metadata": {},
   "source": [
    "1.2 Top and Bottom 10 Websites by Visitor Traffic"
   ]
  },
  {
   "cell_type": "code",
   "execution_count": null,
   "metadata": {},
   "outputs": [],
   "source": [
    "# Define estimated visitors\n",
    "def estimate_visitors(row):\n",
    "    # Extract relevant columns\n",
    "    global_rank = row['GlobalRank']\n",
    "    ref_subnets = row['RefSubNets']\n",
    "    ref_ips = row['RefIPs']\n",
    "    \n",
    "    # Handle potential division by zero or missing values\n",
    "    if global_rank <= 0:  # GlobalRank should be a positive integer\n",
    "        return None\n",
    "    if pd.isna(ref_subnets) or pd.isna(ref_ips):\n",
    "        return None\n",
    "\n",
    "    # Example scaling factor\n",
    "    scaling_factor = 10000\n",
    "    \n",
    "    # Calculate estimated visitors\n",
    "    estimated_visitors = (1 / global_rank) * (ref_subnets + ref_ips) * scaling_factor\n",
    "    return estimated_visitors\n",
    "\n",
    "# Apply the function to the DataFrame\n",
    "final_df['EstimatedVisitors'] = final_df.apply(estimate_visitors, axis=1)\n",
    "\n",
    "# Display the first few rows of the updated DataFrame\n",
    "print(final_df[['Domain', 'GlobalRank', 'RefSubNets', 'RefIPs', 'EstimatedVisitors']].head())\n"
   ]
  },
  {
   "cell_type": "code",
   "execution_count": null,
   "metadata": {},
   "outputs": [],
   "source": [
    "# Top 10 websites by visitor traffic\n",
    "top_10_traffic_websites = final_df[['source_name', 'EstimatedVisitors']].groupby('source_name').mean().sort_values(by='EstimatedVisitors', ascending=False).head(10)\n",
    "print(\"Top 10 Websites by Visitor Traffic:\\n\", top_10_traffic_websites)\n",
    "\n",
    "# Bottom 10 websites by visitor traffic\n",
    "bottom_10_traffic_websites = final_df[['source_name', 'EstimatedVisitors']].groupby('source_name').mean().sort_values(by='EstimatedVisitors').head(10)\n",
    "print(\"\\nBottom 10 Websites by Visitor Traffic:\\n\", bottom_10_traffic_websites)\n"
   ]
  },
  {
   "cell_type": "markdown",
   "metadata": {},
   "source": [
    "1.3 Countries with the Highest Number of News Media Organizations"
   ]
  },
  {
   "cell_type": "code",
   "execution_count": null,
   "metadata": {},
   "outputs": [],
   "source": [
    "# Count of news media organizations (domains) by country\n",
    "country_media_count = final_df['location'].value_counts()\n",
    "top_countries_media = country_media_count.head(10)\n",
    "print(\"Countries with the Highest Number of News Media Organizations:\\n\", top_countries_media)\n"
   ]
  },
  {
   "cell_type": "markdown",
   "metadata": {},
   "source": [
    "1.4 Countries with Many Articles Written About Them"
   ]
  },
  {
   "cell_type": "code",
   "execution_count": null,
   "metadata": {},
   "outputs": [],
   "source": [
    "# Grouping by location to find out the number of articles related to each country\n",
    "articles_about_countries = final_df['location'].value_counts()\n",
    "print(\"Countries with Many Articles Written About Them:\\n\", articles_about_countries.head(10))\n"
   ]
  },
  {
   "cell_type": "markdown",
   "metadata": {},
   "source": [
    "1.5 Websites Reporting About Specific Regions"
   ]
  },
  {
   "cell_type": "code",
   "execution_count": null,
   "metadata": {},
   "outputs": [],
   "source": [
    "# Extract unique country names or codes\n",
    "unique_countries = final_df['Country'].dropna().unique()\n",
    "\n",
    "# Convert to a DataFrame for better visualization (optional)\n",
    "unique_countries_df = pd.DataFrame(unique_countries, columns=['Country'])\n",
    "\n",
    "# Display the unique country names or codes\n",
    "print(unique_countries_df)"
   ]
  },
  {
   "cell_type": "code",
   "execution_count": null,
   "metadata": {},
   "outputs": [],
   "source": [
    "# Updated regions dictionary with new countries\n",
    "regions = {\n",
    "    'North America': ['United States'],\n",
    "    'Europe': ['United Kingdom', 'Russia'],  # Including Russia here for a broader European context\n",
    "    'Asia': ['India'],\n",
    "    'Africa': ['Nigeria'],\n",
    "    'Middle East': ['Saudi Arabia', 'UAE', 'Iran', 'Israel', 'Turkey'],\n",
    "    'South America': ['Brazil', 'Argentina', 'Chile'],\n",
    "    'Oceania': ['Australia', 'New Zealand'],\n",
    "    'Other': []  # To include any additional or unspecified regions\n",
    "}\n",
    "\n",
    "# Function to categorize a website based on its location\n",
    "def categorize_region(location):\n",
    "    for region, countries in regions.items():\n",
    "        if location in countries:\n",
    "            return region\n",
    "    return 'Other'\n",
    "\n",
    "# Apply the function to categorize each entry\n",
    "final_df['region'] = final_df['Country'].apply(categorize_region)\n",
    "\n",
    "# Count of websites reporting about specific regions\n",
    "region_report_counts = final_df['region'].value_counts()\n",
    "print(\"Websites Reporting About Specific Regions:\\n\", region_report_counts)\n"
   ]
  },
  {
   "cell_type": "markdown",
   "metadata": {},
   "source": [
    "1.6 Websites with Highest Count of Positive, Neutral, and Negative Sentiment"
   ]
  },
  {
   "cell_type": "code",
   "execution_count": null,
   "metadata": {},
   "outputs": [],
   "source": [
    "# Assuming sentiment column exists with values 'positive', 'neutral', 'negative'\n",
    "sentiment_summary = final_df.groupby('source_name')['title_sentiment'].value_counts().unstack().fillna(0)\n",
    "\n",
    "# Descriptive statistics for sentiment\n",
    "sentiment_stats = sentiment_summary.describe()\n",
    "print(\"Descriptive Statistics for Sentiments:\\n\", sentiment_stats)\n"
   ]
  },
  {
   "cell_type": "markdown",
   "metadata": {},
   "source": [
    "1.7 Compare Impact of Mean and Median Sentiment"
   ]
  },
  {
   "cell_type": "code",
   "execution_count": null,
   "metadata": {},
   "outputs": [],
   "source": [
    "# Group by 'source_name' and calculate sentiment counts\n",
    "sentiment_counts = final_df.groupby('source_name')['title_sentiment'].value_counts().unstack().fillna(0)\n",
    "\n",
    "# Rename columns for clarity\n",
    "sentiment_counts.columns = ['negative_count', 'neutral_count', 'positive_count']\n",
    "\n",
    "# Get the top websites for each sentiment type\n",
    "top_positive_websites = sentiment_counts[['positive_count']].nlargest(10, 'positive_count')\n",
    "top_neutral_websites = sentiment_counts[['neutral_count']].nlargest(10, 'neutral_count')\n",
    "top_negative_websites = sentiment_counts[['negative_count']].nlargest(10, 'negative_count')\n",
    "\n",
    "print(\"Top Websites by Positive Sentiment Count:\\n\", top_positive_websites)\n",
    "print(\"\\nTop Websites by Neutral Sentiment Count:\\n\", top_neutral_websites)\n",
    "print(\"\\nTop Websites by Negative Sentiment Count:\\n\", top_negative_websites)\n"
   ]
  },
  {
   "cell_type": "code",
   "execution_count": null,
   "metadata": {},
   "outputs": [],
   "source": [
    "# Select top 10 domains by visitor traffic\n",
    "top_10_domains = final_df.groupby('source_name')['EstimatedVisitors'].sum().nlargest(10).index\n",
    "\n",
    "# Filter data for top 10 domains\n",
    "top_10_df = final_df[final_df['source_name'].isin(top_10_domains)]\n",
    "\n",
    "# Calculate sentiment counts for top 10 domains\n",
    "sentiment_counts_top_10 = top_10_df.groupby('source_name')['title_sentiment'].value_counts().unstack().fillna(0)\n",
    "\n",
    "# Calculate mean and median for each sentiment\n",
    "sentiment_summary = sentiment_counts_top_10.agg(['mean', 'median', 'var'])\n",
    "\n",
    "print(\"Sentiment Summary for Top 10 Domains:\\n\", sentiment_summary)\n",
    "\n",
    "# Plot comparison of mean and median\n",
    "# Data for plotting\n",
    "sentiment_types = ['Negative', 'Neutral', 'Positive']\n",
    "mean_values = [455.4, 1613.7, 334.3]\n",
    "median_values = [247.5, 1046.0, 112.0]\n",
    "\n",
    "# Create a bar plot for mean and median sentiment counts\n",
    "x = range(len(sentiment_types))  # Position of bars\n",
    "\n",
    "plt.figure(figsize=(12, 6))\n",
    "plt.bar(x, mean_values, width=0.4, label='Mean', color='blue', align='center')\n",
    "plt.bar([p + 0.4 for p in x], median_values, width=0.4, label='Median', color='orange', align='center')\n",
    "\n",
    "plt.xlabel('Sentiment Type')\n",
    "plt.ylabel('Count')\n",
    "plt.title('Comparison of Mean and Median Sentiment Counts for Top 10 Domains')\n",
    "plt.xticks([p + 0.2 for p in x], sentiment_types)\n",
    "plt.legend()\n",
    "plt.show()"
   ]
  },
  {
   "cell_type": "markdown",
   "metadata": {},
   "source": [
    "1.8 Distribution of Sentiments for Top 10 Domains"
   ]
  },
  {
   "cell_type": "code",
   "execution_count": null,
   "metadata": {},
   "outputs": [],
   "source": [
    "# Get the top websites for each sentiment type\n",
    "top_positive_websites = sentiment_counts[['positive_count']].nlargest(10, 'positive_count').index\n",
    "top_neutral_websites = sentiment_counts[['neutral_count']].nlargest(10, 'neutral_count').index\n",
    "top_negative_websites = sentiment_counts[['negative_count']].nlargest(10, 'negative_count').index\n",
    "\n",
    "# Combine all top domains into a single list\n",
    "top_10_domains = set(top_positive_websites) | set(top_neutral_websites) | set(top_negative_websites)\n",
    "\n",
    "# Filter data for top 10 domains\n",
    "top_10_sentiments = final_df[final_df['source_name'].isin(top_10_domains)]\n",
    "\n",
    "# Ensure that 'title_sentiment' is used correctly (assuming it's categorical)\n",
    "if 'title_sentiment' not in top_10_sentiments.columns:\n",
    "    raise ValueError(\"Column 'title_sentiment' not found in the data.\")\n",
    "\n",
    "# Plot sentiment distribution\n",
    "plt.figure(figsize=(14, 8))\n",
    "sns.histplot(data=top_10_sentiments, x='title_sentiment', hue='source_name', multiple='stack', bins=30, palette='tab10')\n",
    "\n",
    "plt.title('Sentiment Distribution for Top 10 Domains by Sentiment Counts')\n",
    "plt.xlabel('Sentiment')\n",
    "plt.ylabel('Frequency')\n",
    "plt.legend(title='Source Name', bbox_to_anchor=(1.05, 1), loc='upper left')\n",
    "\n",
    "plt.tight_layout()\n",
    "plt.show()"
   ]
  },
  {
   "cell_type": "markdown",
   "metadata": {},
   "source": [
    "2. Compare Content Metadata Across Sites\n",
    "2.1 Distribution of Raw Message Lengths Across Sites"
   ]
  },
  {
   "cell_type": "code",
   "execution_count": null,
   "metadata": {},
   "outputs": [],
   "source": [
    "# Distribution of message lengths by site\n",
    "plt.figure(figsize=(14, 7))\n",
    "sns.boxplot(data=final_df, x='source_name', y='content_length')\n",
    "plt.xticks(rotation=90)\n",
    "plt.title('Distribution of Raw Message Lengths Across Sites')\n",
    "plt.show()\n"
   ]
  },
  {
   "cell_type": "markdown",
   "metadata": {},
   "source": [
    "2.2 Distribution of Title Word Counts Across Sites"
   ]
  },
  {
   "cell_type": "code",
   "execution_count": null,
   "metadata": {},
   "outputs": [],
   "source": [
    "# Distribution of title word counts by site\n",
    "plt.figure(figsize=(14, 7))\n",
    "sns.boxplot(data=final_df, x='source_name', y='title_word_count')\n",
    "plt.xticks(rotation=90)\n",
    "plt.title('Distribution of Title Word Counts Across Sites')\n",
    "plt.show()\n"
   ]
  },
  {
   "cell_type": "markdown",
   "metadata": {},
   "source": [
    "3. Impact of Frequent Reporting and Sentiment on Global Ranking"
   ]
  },
  {
   "cell_type": "code",
   "execution_count": null,
   "metadata": {},
   "outputs": [],
   "source": [
    "# Convert title_sentiment to numeric, forcing errors to NaN\n",
    "final_df['title_sentiment'] = pd.to_numeric(final_df['title_sentiment'], errors='coerce')\n",
    "\n",
    "# Remove rows with NaN in title_sentiment if any\n",
    "final_df = final_df.dropna(subset=['title_sentiment'])"
   ]
  },
  {
   "cell_type": "code",
   "execution_count": null,
   "metadata": {},
   "outputs": [],
   "source": [
    "# 1. Calculate total number of articles and average sentiment score for each website\n",
    "reporting_sentiment_df = final_df.groupby('source_name').agg(\n",
    "    total_articles=('article_id', 'count'),\n",
    "    average_sentiment=('title_sentiment', 'mean')\n",
    ").reset_index()\n",
    "\n",
    "# 2. Perform correlation analysis\n",
    "correlation = reporting_sentiment_df['total_articles'].corr(reporting_sentiment_df['average_sentiment'])\n",
    "print(f\"Correlation between total articles and average sentiment score: {correlation:.2f}\")\n",
    "\n",
    "# 3. Visualize the relationship using a scatter plot\n",
    "plt.figure(figsize=(10, 6))\n",
    "sns.scatterplot(x='total_articles', y='average_sentiment', data=reporting_sentiment_df)\n",
    "plt.title('Impact of Reporting Frequency on Sentiment Score')\n",
    "plt.xlabel('Total Number of Articles')\n",
    "plt.ylabel('Average Sentiment Score')\n",
    "plt.show()"
   ]
  },
  {
   "cell_type": "code",
   "execution_count": null,
   "metadata": {},
   "outputs": [],
   "source": []
  },
  {
   "cell_type": "code",
   "execution_count": null,
   "metadata": {},
   "outputs": [],
   "source": []
  }
 ],
 "metadata": {
  "kernelspec": {
   "display_name": "base",
   "language": "python",
   "name": "python3"
  },
  "language_info": {
   "codemirror_mode": {
    "name": "ipython",
    "version": 3
   },
   "file_extension": ".py",
   "mimetype": "text/x-python",
   "name": "python",
   "nbconvert_exporter": "python",
   "pygments_lexer": "ipython3",
   "version": "3.12.4"
  }
 },
 "nbformat": 4,
 "nbformat_minor": 2
}
