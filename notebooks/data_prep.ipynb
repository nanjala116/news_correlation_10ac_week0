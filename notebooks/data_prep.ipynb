{
 "cells": [
  {
   "cell_type": "markdown",
   "metadata": {},
   "source": [
    "Data Understanding"
   ]
  },
  {
   "cell_type": "markdown",
   "metadata": {},
   "source": [
    "Import Libraries"
   ]
  },
  {
   "cell_type": "code",
   "execution_count": null,
   "metadata": {},
   "outputs": [],
   "source": [
    "#!pip install pandas numpy scipy scikit-learn tensorflow pytorch xgboost matplotlib seaborn plotly altair streamlit tabulate joblib pickle-mixin mlflow\n"
   ]
  },
  {
   "cell_type": "code",
   "execution_count": 18,
   "metadata": {},
   "outputs": [],
   "source": [
    "import pandas as pd\n",
    "import numpy as np\n",
    "from tabulate import tabulate\n",
    "import matplotlib.pyplot as plt\n",
    "import seaborn as sns\n",
    "from sklearn.preprocessing import StandardScaler\n",
    "\n",
    "# Display settings\n",
    "pd.set_option('display.max_columns', None)\n",
    "pd.set_option('display.width', 1000)\n"
   ]
  },
  {
   "cell_type": "markdown",
   "metadata": {},
   "source": [
    "Load Datasets"
   ]
  },
  {
   "cell_type": "code",
   "execution_count": 19,
   "metadata": {},
   "outputs": [],
   "source": [
    "# Load datasets\n",
    "rating_path = '../data/rating.csv'\n",
    "domains_location_path = '../data/domains_location.csv'\n",
    "traffic_path = '../data/traffic.csv'\n",
    "\n",
    "data_df = pd.read_csv(rating_path)\n",
    "domains_location_df = pd.read_csv(domains_location_path)\n",
    "traffic_data_df = pd.read_csv(traffic_path)\n"
   ]
  },
  {
   "cell_type": "code",
   "execution_count": 20,
   "metadata": {},
   "outputs": [
    {
     "name": "stdout",
     "output_type": "stream",
     "text": [
      "data_df has 58356 rows and 13 columns.\n",
      "domains_location_df has 37802 rows and 3 columns.\n",
      "traffic_data_df has 1000000 rows and 12 columns.\n"
     ]
    }
   ],
   "source": [
    "# Display the shape of each DataFrame\n",
    "print(f'data_df has {data_df.shape[0]} rows and {data_df.shape[1]} columns.')\n",
    "print(f'domains_location_df has {domains_location_df.shape[0]} rows and {domains_location_df.shape[1]} columns.')\n",
    "print(f'traffic_data_df has {traffic_data_df.shape[0]} rows and {traffic_data_df.shape[1]} columns.')"
   ]
  },
  {
   "cell_type": "code",
   "execution_count": 21,
   "metadata": {},
   "outputs": [
    {
     "name": "stdout",
     "output_type": "stream",
     "text": [
      "data_df preview: +----+--------------+-------------+----------------+----------------------------------------------------+--------------------------------------------------------------------------------+----------------------------------------------------------------------------------------------------------------------------------------------------------------------------------------------------------------------------------------------------------------------+--------------------------------------------------------------------------------------------------------------------------------------------+---------------------------------------------------------------------------------------------------------------------------------------------------------------------------------------------------------------------------------------------------------------------------------------+----------------------------+------------------------------------------------------------------------------------------------------------------------------------------------------------------------------------------------------------------------+------------+-----------------------------------------------------------------------------------------------------------------------------------------------------------------------------------------------------------------------------------------------------------------------------------------------------------------------------------------------------------------------------------------------------------------------------------------------------------------------------------------------------------------------------------------------------------------------------------------------------------------------------------------------------------------------------------------------------------------------------------------------------------------------------------------------------------------------------------------------------------------------------------------------------------------------------------------------------------------------------------------------------------------------------------------------------------------------------------------------------------------------------------------------------------------------------------------------------------------------------------------------------------------------------------------------------------------------------------------------------------------------------------------------------------------------------------------------------------------------------------------------------------------------------------------------------------------------------------------------------------------------------------------------------------------------------------------------------------------------------------------------------------------------------------------------------------------------------------------------------------------------------------------------------------------------------------------------------------------------------------------------------------------------------------------------------------------------------------------------------------------------------------------------------------------------------------------------------------------------------------------------------------------------------------------------------------------------------------------------------------------------------------------------------------------------------------------------------------------------------------------------------------------------------------------------------------------------------------------------------------------------------------------------------------------------------------------------------------------------------------------------------------------------------------------------------------------------------------------------------------------------------------------------------------------------------------------------------------------------------------------------------------------------------------------------------------------------------------------------------------------------------------------------------------------------------------------------------------------------------------------------------------------------------------------------------------------------------------------------------------------------------------------------------------------------------------------------------------------------------------------------------------------------------------------------------------------------------------------------------------------------------------------------------------------------------------------------------------------------------------------------------------------------------------------------------------------------------------------------------------------------------------------------------------------------------------------------------------------------------------------------------------------------------------------------------------------------------------------------------------------------------------------------------------------------------------------------------------------------------------------------------------------------------------------------------------------------------------------------------------------------------------------------------------------------------------------------------------------------------------------------------------------------------------------------------------------------------------------------------------------------------------------------------------------------------------------------------------------------------------------------------------------------------------------------------------------------------------------------------------------------------------------------------------------------------------------------------------------------------------------------------------------------------------------------------------------------------------------------------------------------------------------------------------------------------------------------------------------------------------------------------------------------------------------------------------------------------------------------------------------------------------------------------------------------------------------------------------------------------------------------------------------------------------------------------------------------------------------------------------------------------------------------------------------------------------------------------------------------------------------------------------------------------------------------------------------------------------------------------------------------------------------------------------------------------------------------------------------------------------------------------------------------------------------------------------------------------------------------------------------------------------------------------------------------------------------------------------------------------------------------------------------------------------------------------------------------------+-------------------+\n",
      "|    |   article_id | source_id   | source_name    | author                                             | title                                                                          | description                                                                                                                                                                                                                                                          | url                                                                                                                                        | url_to_image                                                                                                                                                                                                                                                                          | published_at               | content                                                                                                                                                                                                                | category   | article                                                                                                                                                                                                                                                                                                                                                                                                                                                                                                                                                                                                                                                                                                                                                                                                                                                                                                                                                                                                                                                                                                                                                                                                                                                                                                                                                                                                                                                                                                                                                                                                                                                                                                                                                                                                                                                                                                                                                                                                                                                                                                                                                                                                                                                                                                                                                                                                                                                                                                                                                                                                                                                                                                                                                                                                                                                                                                                                                                                                                                                                                                                                                                                                                                                                                                                                                                                                                                                                                                                                                                                                                                                                                                                                                                                                                                                                                                                                                                                                                                                                                                                                                                                                                                                                                                                                                                                                                                                                                                                                                                                                                                                                                                                                                                                                                                                                                                                                                                                                                                                                                                                                                                                                                                                                                                                                                                                                                                                                                                                                                                                                                                                                                                                                                                                                                                                                                                                                                                                                                                                                                                                                                                                                                                                                                                                     | title_sentiment   |\n",
      "|----+--------------+-------------+----------------+----------------------------------------------------+--------------------------------------------------------------------------------+----------------------------------------------------------------------------------------------------------------------------------------------------------------------------------------------------------------------------------------------------------------------+--------------------------------------------------------------------------------------------------------------------------------------------+---------------------------------------------------------------------------------------------------------------------------------------------------------------------------------------------------------------------------------------------------------------------------------------+----------------------------+------------------------------------------------------------------------------------------------------------------------------------------------------------------------------------------------------------------------+------------+-----------------------------------------------------------------------------------------------------------------------------------------------------------------------------------------------------------------------------------------------------------------------------------------------------------------------------------------------------------------------------------------------------------------------------------------------------------------------------------------------------------------------------------------------------------------------------------------------------------------------------------------------------------------------------------------------------------------------------------------------------------------------------------------------------------------------------------------------------------------------------------------------------------------------------------------------------------------------------------------------------------------------------------------------------------------------------------------------------------------------------------------------------------------------------------------------------------------------------------------------------------------------------------------------------------------------------------------------------------------------------------------------------------------------------------------------------------------------------------------------------------------------------------------------------------------------------------------------------------------------------------------------------------------------------------------------------------------------------------------------------------------------------------------------------------------------------------------------------------------------------------------------------------------------------------------------------------------------------------------------------------------------------------------------------------------------------------------------------------------------------------------------------------------------------------------------------------------------------------------------------------------------------------------------------------------------------------------------------------------------------------------------------------------------------------------------------------------------------------------------------------------------------------------------------------------------------------------------------------------------------------------------------------------------------------------------------------------------------------------------------------------------------------------------------------------------------------------------------------------------------------------------------------------------------------------------------------------------------------------------------------------------------------------------------------------------------------------------------------------------------------------------------------------------------------------------------------------------------------------------------------------------------------------------------------------------------------------------------------------------------------------------------------------------------------------------------------------------------------------------------------------------------------------------------------------------------------------------------------------------------------------------------------------------------------------------------------------------------------------------------------------------------------------------------------------------------------------------------------------------------------------------------------------------------------------------------------------------------------------------------------------------------------------------------------------------------------------------------------------------------------------------------------------------------------------------------------------------------------------------------------------------------------------------------------------------------------------------------------------------------------------------------------------------------------------------------------------------------------------------------------------------------------------------------------------------------------------------------------------------------------------------------------------------------------------------------------------------------------------------------------------------------------------------------------------------------------------------------------------------------------------------------------------------------------------------------------------------------------------------------------------------------------------------------------------------------------------------------------------------------------------------------------------------------------------------------------------------------------------------------------------------------------------------------------------------------------------------------------------------------------------------------------------------------------------------------------------------------------------------------------------------------------------------------------------------------------------------------------------------------------------------------------------------------------------------------------------------------------------------------------------------------------------------------------------------------------------------------------------------------------------------------------------------------------------------------------------------------------------------------------------------------------------------------------------------------------------------------------------------------------------------------------------------------------------------------------------------------------------------------------------------------------------------------------------------------+-------------------|\n",
      "|  0 |        81664 | nan         | Forbes         | Elizabeth Brownfield, Contributor,                 | superstar chef yannick alléno brings refined french cuisine to pavyllon london | Now open in Mayfair at Four Seasons Hotel London at Park Lane, the restaurant is the Michelin-starred chef’s London debut.                                                                                                                                           | https://www.forbes.com/sites/elizabethbrownfield/2023/10/31/superstar-chef-yannick-allno-brings-refined-french-cuisine-to-pavyllon-london/ | https://imageio.forbes.com/specials-images/imageserve/6541bfb7e9d62d18f25b0260/0x0.jpg?format=jpg&height=900&width=1600&fit=bounds                                                                                                                                                    | 2023-11-01 03:27:21.000000 | Pavyllon London, at Four Seasons Hotel London at Park Lane                                                                                                                                                             | Monaco     | pavyllon london, at four seasons hotel london at park lane one of the world’s best chefs has created a new culinary stage in london. yannick alléno, the superstar french chef who has nabbed an impressive 15 michelin stars, recently made his u.k. debut with the opening of pavyllon london. located in four seasons hotel london at park lane in fashionable mayfair, the new restaurant showcases alléno’s modern french cuisine with bespoke british influences. the fine dining destination offers guests a chance to experience alléno’s signature culinary trademarks — namely, modern french fare grounded in classical techniques, an innovative approach to sauce-making, and the belief that chefs have a responsibility to care for the good health of their guests — at his new refined-yet-relaxed culinary theater. \"pavyllon london is an embodiment of my lifelong dream to redefine french dining,\" says alléno. \"it combines my family's bistro-running legacy with my passion for culinary innovation. at pavyllon london, we look forward to welcoming our guests into the heart of the action, creating interactive, less formal dining, centered around countertop seating and simply great food.” chef yannick alléno chef yannick alléno pavyllon london is the latest restaurant from the prolific french-born yannick alléno, the superstar chef who’s been awarded 15 stars across 17 restaurants in paris, courchevel, monaco, dubai, and seoul. that puts alléno on a very short, elite list of michelin’s most-awarded chefs comprised of himself, joël robuchon, alain ducasse, gordon ramsay, pierre gagnaire, and martín berasategui. in fact, chef alléno’s trio of restaurants in pavillon ledoyen hold six stars (three at alléno paris, two at l’abysse and one at pavyllon), making it the most star-rated independent restaurant destination in the world. the lounge at pavyllon london at pavyllon london, which opened in july, chef yannick delivers his signature refined french fare with british influences like local and regional produce. the food, wine, and cocktail menus also feature specialty ingredients from time-honored purveyors like cheese from neal’s yard dairy and smoked salmon from h. forman & son in london, and sparkling wines from gusbourne vineyards in kent. alléno’s famed sauce-making skills and botanical extractions are on display throughout the menus. his groundbreaking methods utilize vacuum-cooking at precise temperatures, followed by cryo-concentration, to procure the purest flavor from produce and other ingredients. the result is vibrantly colored and flavored sauces that yield big flavor while reducing the amount of fat, sugar, and salt traditionally used. pavyllon london's menus showcase refined french cuisine with british influences pavyllon london’s cuisine pavyllon london serves breakfast, lunch, dinner, and high tea daily. crispy prawns with trout roe and miso beurre blanc a three-course lunch menu at pavyllon london might include crispy prawns set atop miso beurre blanc and trout roe, red mullet and clams with chermoula and chorizo butter, and a perfect baked peach baked in arlette crust with housemade red berry sorbet, topped with crunchy crystallized mint. the fine dining lunch set is designed to be eaten in just 55 minutes, meaning it’s possible to work in a decadent mid-day meal into an otherwise-ordinary work day. a refined version of surf and turf at dinner, guests can opt for à la carte options and kick off their meal with a duo of seabass carpaccio and beef tartare with puffed quinoa and crispy shallot to start, or a comté souffle with watercress coulis and eel butter. mains include a langoustine tart with caviar and beurre blanc, and veal cordon bleu with béchamel. desserts are inventive and intriguing, like roasted fig and curry ice cream with fig leaf cream, cardamom pastry crisp, and flambéed figs with marsala. highlights of the dinner tasting menus include warm potatoes glazed with an electric-green lovage mayonnaise, a reinvented prawn cocktail with fennel, dill, trout roe, and parmesan, lamb chops with shiso coulis and anchoïade, and beef filet with confit pears and flambéed cognac. high tea at pavyllon london at high tea, tiers of traditional fingers sandwiches are served alongside decadent chocolates and jewel-like miniature fruit tarts, meringues, and pastries covered in shiny mirror glaze. a sampling of small bites at bar antoine bar antoine before or after a meal at pavyllon, guests can stop off at bar antoine, helmed by head mixologist michele lombardi. the drinks menu ranges from classic cocktails to spirit-free libations, plus chef yannick’s signature creative gin & tonics made with seasonal fruit, vegetable, and herb extractions in a rainbow of vibrant colors. michele lombardi, head mixologist at bar antoine, crafts g&ts with botanical extractions bar antoine also offers shareable small plates, live jazz nights, and a lovely outdoor terrace for warmer months. a palette of soft blues and grays create a serene dining room design a sophisticated and serene palette of pearlescent whites, cool blues, and soft grays was curated by interior designer chahan minassian, the former european creative director of ralph lauren. the inspiration? “the chic conviviality of a parisian residence with the familiarity of a british club.” the tasteful lounge and main dining room feel sumptuous and serene, with gleaming marble, plush banquets, velvet sofas and cushions, contemporary art, and potted greenery like fiddle leaf figs. the chef's counter offers diners a front row seat to action in the kitchen the serene spaces are the ideal backdrop to showcase the culinary action of the open kitchen, which chef alléno views as a performance space. four seasons hotel london at park lane special holiday meals pavyllon london will be a destination for elevated festive holiday fare this winter, with special brunch, lunch, and dinner menus planned for christmas and new year’s. to learn more about pavyllon london in four seasons hotel london at park lane, or to book a reservation, visit pavyllon london. | Neutral           |\n",
      "|    |              |             |                |  Elizabeth Brownfield, Contributor                 |                                                                                |                                                                                                                                                                                                                                                                      |                                                                                                                                            |                                                                                                                                                                                                                                                                                       |                            | Courtesy of Four Seasons Hotel London at Park Lane                                                                                                                                                                     |            |                                                                                                                                                                                                                                                                                                                                                                                                                                                                                                                                                                                                                                                                                                                                                                                                                                                                                                                                                                                                                                                                                                                                                                                                                                                                                                                                                                                                                                                                                                                                                                                                                                                                                                                                                                                                                                                                                                                                                                                                                                                                                                                                                                                                                                                                                                                                                                                                                                                                                                                                                                                                                                                                                                                                                                                                                                                                                                                                                                                                                                                                                                                                                                                                                                                                                                                                                                                                                                                                                                                                                                                                                                                                                                                                                                                                                                                                                                                                                                                                                                                                                                                                                                                                                                                                                                                                                                                                                                                                                                                                                                                                                                                                                                                                                                                                                                                                                                                                                                                                                                                                                                                                                                                                                                                                                                                                                                                                                                                                                                                                                                                                                                                                                                                                                                                                                                                                                                                                                                                                                                                                                                                                                                                                                                                                                                                             |                   |\n",
      "|    |              |             |                |  https://www.forbes.com/sites/elizabethbrownfield/ |                                                                                |                                                                                                                                                                                                                                                                      |                                                                                                                                            |                                                                                                                                                                                                                                                                                       |                            | Pavyllon London is the latest restaurant from the prolific French-born Yannick Alléno, … [+5266 chars]                                                                                                                 |            |                                                                                                                                                                                                                                                                                                                                                                                                                                                                                                                                                                                                                                                                                                                                                                                                                                                                                                                                                                                                                                                                                                                                                                                                                                                                                                                                                                                                                                                                                                                                                                                                                                                                                                                                                                                                                                                                                                                                                                                                                                                                                                                                                                                                                                                                                                                                                                                                                                                                                                                                                                                                                                                                                                                                                                                                                                                                                                                                                                                                                                                                                                                                                                                                                                                                                                                                                                                                                                                                                                                                                                                                                                                                                                                                                                                                                                                                                                                                                                                                                                                                                                                                                                                                                                                                                                                                                                                                                                                                                                                                                                                                                                                                                                                                                                                                                                                                                                                                                                                                                                                                                                                                                                                                                                                                                                                                                                                                                                                                                                                                                                                                                                                                                                                                                                                                                                                                                                                                                                                                                                                                                                                                                                                                                                                                                                                             |                   |\n",
      "|  1 |        81667 | nan         | CNA            | nan                                                | nice claim top spot in ligue 1 with late win at clermont                       | Nice moved into provisional first place in the Ligue 1 standings thanks to a second-half Hicham Boudaoui goal that secured a 1-0 win at lowly Clermont Foot on Friday.The result lifted Nice to first place with 22 points, two points ahead of AS Monaco, who play… | https://www.channelnewsasia.com/sport/nice-claim-top-spot-ligue-1-late-win-clermont-3879036                                                | https://onecms-res.cloudinary.com/image/upload/s--aqNBjcTF--/fl_relative,g_south_east,l_one-cms:core:watermark:reuters,w_0.1/f_auto,q_auto/c_fill,g_auto,h_676,w_1200/v1/one-cms/core/2023-10-27t212848z_1_lynxmpej9q0xi_rtroptp_3_soccer-europaconf-nce-bas-report.jpg?itok=JfboYQb1 | 2023-10-27 21:28:48.000000 | Nice moved into provisional first place in the Ligue 1 standings thanks to a second-half Hicham Boudaoui goal that secured a 1-0 win at lowly Clermont Foot on Friday.                                                 | Monaco     | nice moved into provisional first place in the ligue 1 standings thanks to a second-half hicham boudaoui goal that secured a 1-0 win at lowly clermont foot on friday. the result lifted nice to first place with 22 points, two points ahead of as monaco, who play at lille on sunday. clermont are second-bottom with five points. boudaoui struck in the 74th minute after running unmarked into the box and tapping home a well-placed cross. nice had a chance to open the scoring just before halftime when alidu seidu fouled boudaoui in the area but gaetan labord's penalty went wide, leaving the first half scoreless. francesco farioli's nice have had an exceptional start to the season, maintaining an unbeaten record and securing seven clean sheets, the best in europe's top five leagues.                                                                                                                                                                                                                                                                                                                                                                                                                                                                                                                                                                                                                                                                                                                                                                                                                                                                                                                                                                                                                                                                                                                                                                                                                                                                                                                                                                                                                                                                                                                                                                                                                                                                                                                                                                                                                                                                                                                                                                                                                                                                                                                                                                                                                                                                                                                                                                                                                                                                                                                                                                                                                                                                                                                                                                                                                                                                                                                                                                                                                                                                                                                                                                                                                                                                                                                                                                                                                                                                                                                                                                                                                                                                                                                                                                                                                                                                                                                                                                                                                                                                                                                                                                                                                                                                                                                                                                                                                                                                                                                                                                                                                                                                                                                                                                                                                                                                                                                                                                                                                                                                                                                                                                                                                                                                                                                                                                                                                                                                                                            | Positive          |\n",
      "|    |              |             |                |                                                    |                                                                                |                                                                                                                                                                                                                                                                      |                                                                                                                                            |                                                                                                                                                                                                                                                                                       |                            | The result lifted Nice to first… [+588 chars]                                                                                                                                                                          |            |                                                                                                                                                                                                                                                                                                                                                                                                                                                                                                                                                                                                                                                                                                                                                                                                                                                                                                                                                                                                                                                                                                                                                                                                                                                                                                                                                                                                                                                                                                                                                                                                                                                                                                                                                                                                                                                                                                                                                                                                                                                                                                                                                                                                                                                                                                                                                                                                                                                                                                                                                                                                                                                                                                                                                                                                                                                                                                                                                                                                                                                                                                                                                                                                                                                                                                                                                                                                                                                                                                                                                                                                                                                                                                                                                                                                                                                                                                                                                                                                                                                                                                                                                                                                                                                                                                                                                                                                                                                                                                                                                                                                                                                                                                                                                                                                                                                                                                                                                                                                                                                                                                                                                                                                                                                                                                                                                                                                                                                                                                                                                                                                                                                                                                                                                                                                                                                                                                                                                                                                                                                                                                                                                                                                                                                                                                                             |                   |\n",
      "|  2 |        81694 | time        | Time           | Christina Larson / AP                              | amphibians are the world’s most vulnerable species and threats are increasing  | The world’s frogs, salamanders, newts, and other amphibians are in serious trouble. Blame farming and climate change.                                                                                                                                                | https://time.com/6320467/amphibians-most-vulnerable-species/                                                                               | https://api.time.com/wp-content/uploads/2023/10/amphibians-most-threatened-species-scientists-warn-habitat-loss-climate-change.jpg?quality=85                                                                                                                                         | 2023-10-04 17:36:18.000000 | The worlds frogs, salamanders, newts and other amphibians remain in serious trouble.                                                                                                                                   | Madagascar | the world’s frogs, salamanders, newts and other amphibians remain in serious trouble. a new global assessment has found that 41% of amphibian species that scientists have studied are threatened withextinction, meaning they are either vulnerable, endangered or critically endangered. that’s up from 39% reported in the last assessment, in 2004. “amphibians are the world's most threatened animals,” said duke university's junjie yao, a frog researcher who was not involved in the study. “their unique biology and permeable skin make them very sensitive to environmental changes.\" the study,published wednesdayin the journalnature, found that the loss of habitat from the expansion of farming and ranching is the single biggest threat to amphibians worldwide. but a growing percentage of amphibian species are now also pushed to the brink by novel diseases and climate change, the study found. read more:healthy biodiversity is the reason to fight climate change amphibians are especially vulnerable animals. they have distinct life stages that each often require separate habitats, so they can be disrupted by changes in either aquatic or land environments, said university of texas biologist michael ryan, who was not involved in the study. they are also at risk because of their delicate skin. most amphibians absorb oxygen to breathe through their skin, and so they do not have scales, feathers or fur to protect them. chemical pollution, bacteria and fungal infections impact them quickly, as do heightened swings in temperature and moisture levels due toclimate change. for example, frogs are usually nocturnal. if it’s too hot, they won’t come out even at night because they would lose too much water through their skin, said patricia burrowes, a study co-author and researcher at the national museum of natural sciences in madrid. but remaining in sheltered resting places limits frogs’ ability to eat and to breed. this summer was the hottest on record for the northern hemisphere, and 2023 is on track to be the 2nd hottest globally, after 2016. juan manuel guayasamin, a frog biologist at the university san francisco of quito, ecuador, said that advances in technology to trackanimalsand climate variations allowed the new study to use much more precise data than the 2004 assessment. “we have a much better understanding of some risks,” said guayasamin, who was not involved in the report. the study identified the greatest concentrations of threatened amphibian species in several biodiversity hotspots, including the caribbean islands, the tropical andes, madagascar and sri lanka. other locations with large numbers of threatened amphibians include brazil’s atlantic forest, southern china and the southeastern united states.                                                                                                                                                                                                                                                                                                                                                                                                                                                                                                                                                                                                                                                                                                                                                                                                                                                                                                                                                                                                                                                                                                                                                                                                                                                                                                                                                                                                                                                                                                                                                                                                                                                                                                                                                                                                                                                                                                                                                                                                                                                                                                                                                                                                                                                                                                                                                                                                                                                                                                                                                                                                                                                                                                                                                                                                                                                                                                                                                                                                                                                                                                                                                                                                                                                                                                                                                                                                                                                                         | Negative          |\n",
      "|    |              |             |                |                                                    |                                                                                |                                                                                                                                                                                                                                                                      |                                                                                                                                            |                                                                                                                                                                                                                                                                                       |                            | A new global assessment has found that 41% of amphibian species that scientists have studied are threatened with … [+2579 chars]                                                                                       |            |                                                                                                                                                                                                                                                                                                                                                                                                                                                                                                                                                                                                                                                                                                                                                                                                                                                                                                                                                                                                                                                                                                                                                                                                                                                                                                                                                                                                                                                                                                                                                                                                                                                                                                                                                                                                                                                                                                                                                                                                                                                                                                                                                                                                                                                                                                                                                                                                                                                                                                                                                                                                                                                                                                                                                                                                                                                                                                                                                                                                                                                                                                                                                                                                                                                                                                                                                                                                                                                                                                                                                                                                                                                                                                                                                                                                                                                                                                                                                                                                                                                                                                                                                                                                                                                                                                                                                                                                                                                                                                                                                                                                                                                                                                                                                                                                                                                                                                                                                                                                                                                                                                                                                                                                                                                                                                                                                                                                                                                                                                                                                                                                                                                                                                                                                                                                                                                                                                                                                                                                                                                                                                                                                                                                                                                                                                                             |                   |\n",
      "|  3 |        81695 | nan         | Phys.Org       | Sara Schmidt                                       | image: rusty red waters in madagascar                                          | Iron-rich sediment colors the red-orange waters of the Betsiboka River Delta in Madagascar in this image taken by an astronaut on the International Space Station on Sept. 30, 2023. The sediment can clog waterways in the delta's estuarial environment, but it c… | https://phys.org/news/2023-10-image-rusty-red-madagascar.html                                                                              | https://scx2.b-cdn.net/gfx/news/2023/image-rusty-red-waters.jpg                                                                                                                                                                                                                       | 2023-10-31 18:04:02.000000 | Iron-rich sediment colors the red-orange waters of the Betsiboka River Delta in Madagascar in this image taken by an astronaut on the International Space Station on Sept. 30, 2023. The sediment can c… [+756 chars]  | Madagascar | iron-rich sediment colors the red-orange waters of the betsiboka river delta in madagascar in this image taken by an astronaut on the international space station on sept. 30, 2023. the sediment can clog waterways in the delta's estuarial environment, but it can also form new islands that become colonized by mangroves.despite its rusty color, this artery of water is important for biodiversity. within the betsiboka river delta, the estuary supplies food, such as seagrasses, to the endangered green turtle and vulnerable dugong, or sea cow.provided bynasacitation:                                                                                                                                                                                                                                                                                                                                                                                                                                                                                                                                                                                                                                                                                                                                                                                                                                                                                                                                                                                                                                                                                                                                                                                                                                                                                                                                                                                                                                                                                                                                                                                                                                                                                                                                                                                                                                                                                                                                                                                                                                                                                                                                                                                                                                                                                                                                                                                                                                                                                                                                                                                                                                                                                                                                                                                                                                                                                                                                                                                                                                                                                                                                                                                                                                                                                                                                                                                                                                                                                                                                                                                                                                                                                                                                                                                                                                                                                                                                                                                                                                                                                                                                                                                                                                                                                                                                                                                                                                                                                                                                                                                                                                                                                                                                                                                                                                                                                                                                                                                                                                                                                                                                                                                                                                                                                                                                                                                                                                                                                                                                                                                                                                                                                                                                      | Neutral           |\n",
      "|    |              |             |                |                                                    |                                                                                |                                                                                                                                                                                                                                                                      |                                                                                                                                            |                                                                                                                                                                                                                                                                                       |                            |                                                                                                                                                                                                                        |            | \t\t\t\t\t\t\t\t\t\t\t\timage: rusty red waters in madagascar (2023, october 31)                                                                                                                                                                                                                                                                                                                                                                                                                                                                                                                                                                                                                                                                                                                                                                                                                                                                                                                                                                                                                                                                                                                                                                                                                                                                                                                                                                                                                                                                                                                                                                                                                                                                                                                                                                                                                                                                                                                                                                                                                                                                                                                                                                                                                                                                                                                                                                                                                                                                                                                                                                                                                                                                                                                                                                                                                                                                                                                                                                                                                                                                                                                                                                                                                                                                                                                                                                                                                                                                                                                                                                                                                                                                                                                                                                                                                                                                                                                                                                                                                                                                                                                                                                                                                                                                                                                                                                                                                                                                                                                                                                                                                                                                                                                                                                                                                                                                                                                                                                                                                                                                                                                                                                                                                                                                                                                                                                                                                                                                                                                                                                                                                                                                                                                                                                                                                                                                                                                                                                                                                                                                                                                                                                                                                                                                                                                             |                   |\n",
      "|    |              |             |                |                                                    |                                                                                |                                                                                                                                                                                                                                                                      |                                                                                                                                            |                                                                                                                                                                                                                                                                                       |                            |                                                                                                                                                                                                                        |            | \t\t\t\t\t\t\t\t\t\t\t\tretrieved 3 november 2023                                                                                                                                                                                                                                                                                                                                                                                                                                                                                                                                                                                                                                                                                                                                                                                                                                                                                                                                                                                                                                                                                                                                                                                                                                                                                                                                                                                                                                                                                                                                                                                                                                                                                                                                                                                                                                                                                                                                                                                                                                                                                                                                                                                                                                                                                                                                                                                                                                                                                                                                                                                                                                                                                                                                                                                                                                                                                                                                                                                                                                                                                                                                                                                                                                                                                                                                                                                                                                                                                                                                                                                                                                                                                                                                                                                                                                                                                                                                                                                                                                                                                                                                                                                                                                                                                                                                                                                                                                                                                                                                                                                                                                                                                                                                                                                                                                                                                                                                                                                                                                                                                                                                                                                                                                                                                                                                                                                                                                                                                                                                                                                                                                                                                                                                                                                                                                                                                                                                                                                                                                                                                                                                                                                                                                                                                                                             |                   |\n",
      "|    |              |             |                |                                                    |                                                                                |                                                                                                                                                                                                                                                                      |                                                                                                                                            |                                                                                                                                                                                                                                                                                       |                            |                                                                                                                                                                                                                        |            | \t\t\t\t\t\t\t\t\t\t\t\tfrom https://phys.org/news/2023-10-image-rusty-red-madagascar.htmlthis document is subject to copyright. apart from any fair dealing for the purpose of private study or research, no                                                                                                                                                                                                                                                                                                                                                                                                                                                                                                                                                                                                                                                                                                                                                                                                                                                                                                                                                                                                                                                                                                                                                                                                                                                                                                                                                                                                                                                                                                                                                                                                                                                                                                                                                                                                                                                                                                                                                                                                                                                                                                                                                                                                                                                                                                                                                                                                                                                                                                                                                                                                                                                                                                                                                                                                                                                                                                                                                                                                                                                                                                                                                                                                                                                                                                                                                                                                                                                                                                                                                                                                                                                                                                                                                                                                                                                                                                                                                                                                                                                                                                                                                                                                                                                                                                                                                                                                                                                                                                                                                                                                                                                                                                                                                                                                                                                                                                                                                                                                                                                                                                                                                                                                                                                                                                                                                                                                                                                                                                                                                                                                                                                                                                                                                                                                                                                                                                                                                                                                                                                                                                                                                                                                                                                                                                                             |                   |\n",
      "|    |              |             |                |                                                    |                                                                                |                                                                                                                                                                                                                                                                      |                                                                                                                                            |                                                                                                                                                                                                                                                                                       |                            |                                                                                                                                                                                                                        |            | \t\t\t\t\t\t\t\t\t\t\t part may be reproduced without the written permission. the content is provided for information purposes only. despite its rusty color, this artery of water is important for biodiversity. within the betsiboka river delta, the estuary supplies food, such as seagrasses, to the endangered green turtle and vulnerable dugong, or sea cow.provided bynasacitation:                                                                                                                                                                                                                                                                                                                                                                                                                                                                                                                                                                                                                                                                                                                                                                                                                                                                                                                                                                                                                                                                                                                                                                                                                                                                                                                                                                                                                                                                                                                                                                                                                                                                                                                                                                                                                                                                                                                                                                                                                                                                                                                                                                                                                                                                                                                                                                                                                                                                                                                                                                                                                                                                                                                                                                                                                                                                                                                                                                                                                                                                                                                                                                                                                                                                                                                                                                                                                                                                                                                                                                                                                                                                                                                                                                                                                                                                                                                                                                                                                                                                                                                                                                                                                                                                                                                                                                                                                                                                                                                                                                                                                                                                                                                                                                                                                                                                                                                                                                                                                                                                                                                                                                                                                                                                                                                                                                                                                                                                                                                                                                                                                                                                                                                                                                                                                                                                                                                                                                                                                                                                                                                                                                                                                                                                                                                             |                   |\n",
      "|    |              |             |                |                                                    |                                                                                |                                                                                                                                                                                                                                                                      |                                                                                                                                            |                                                                                                                                                                                                                                                                                       |                            |                                                                                                                                                                                                                        |            | \t\t\t\t\t\t\t\t\t\t\t\timage: rusty red waters in madagascar (2023, october 31)                                                                                                                                                                                                                                                                                                                                                                                                                                                                                                                                                                                                                                                                                                                                                                                                                                                                                                                                                                                                                                                                                                                                                                                                                                                                                                                                                                                                                                                                                                                                                                                                                                                                                                                                                                                                                                                                                                                                                                                                                                                                                                                                                                                                                                                                                                                                                                                                                                                                                                                                                                                                                                                                                                                                                                                                                                                                                                                                                                                                                                                                                                                                                                                                                                                                                                                                                                                                                                                                                                                                                                                                                                                                                                                                                                                                                                                                                                                                                                                                                                                                                                                                                                                                                                                                                                                                                                                                                                                                                                                                                                                                                                                                                                                                                                                                                                                                                                                                                                                                                                                                                                                                                                                                                                                                                                                                                                                                                                                                                                                                                                                                                                                                                                                                                                                                                                                                                                                                                                                                                                                                                                                                                                                                                                                                                                                             |                   |\n",
      "|    |              |             |                |                                                    |                                                                                |                                                                                                                                                                                                                                                                      |                                                                                                                                            |                                                                                                                                                                                                                                                                                       |                            |                                                                                                                                                                                                                        |            | \t\t\t\t\t\t\t\t\t\t\t\tretrieved 3 november 2023                                                                                                                                                                                                                                                                                                                                                                                                                                                                                                                                                                                                                                                                                                                                                                                                                                                                                                                                                                                                                                                                                                                                                                                                                                                                                                                                                                                                                                                                                                                                                                                                                                                                                                                                                                                                                                                                                                                                                                                                                                                                                                                                                                                                                                                                                                                                                                                                                                                                                                                                                                                                                                                                                                                                                                                                                                                                                                                                                                                                                                                                                                                                                                                                                                                                                                                                                                                                                                                                                                                                                                                                                                                                                                                                                                                                                                                                                                                                                                                                                                                                                                                                                                                                                                                                                                                                                                                                                                                                                                                                                                                                                                                                                                                                                                                                                                                                                                                                                                                                                                                                                                                                                                                                                                                                                                                                                                                                                                                                                                                                                                                                                                                                                                                                                                                                                                                                                                                                                                                                                                                                                                                                                                                                                                                                                                                             |                   |\n",
      "|    |              |             |                |                                                    |                                                                                |                                                                                                                                                                                                                                                                      |                                                                                                                                            |                                                                                                                                                                                                                                                                                       |                            |                                                                                                                                                                                                                        |            | \t\t\t\t\t\t\t\t\t\t\t\tfrom https://phys.org/news/2023-10-image-rusty-red-madagascar.htmlthis document is subject to copyright. apart from any fair dealing for the purpose of private study or research, no                                                                                                                                                                                                                                                                                                                                                                                                                                                                                                                                                                                                                                                                                                                                                                                                                                                                                                                                                                                                                                                                                                                                                                                                                                                                                                                                                                                                                                                                                                                                                                                                                                                                                                                                                                                                                                                                                                                                                                                                                                                                                                                                                                                                                                                                                                                                                                                                                                                                                                                                                                                                                                                                                                                                                                                                                                                                                                                                                                                                                                                                                                                                                                                                                                                                                                                                                                                                                                                                                                                                                                                                                                                                                                                                                                                                                                                                                                                                                                                                                                                                                                                                                                                                                                                                                                                                                                                                                                                                                                                                                                                                                                                                                                                                                                                                                                                                                                                                                                                                                                                                                                                                                                                                                                                                                                                                                                                                                                                                                                                                                                                                                                                                                                                                                                                                                                                                                                                                                                                                                                                                                                                                                                                                                                                                                                                             |                   |\n",
      "|    |              |             |                |                                                    |                                                                                |                                                                                                                                                                                                                                                                      |                                                                                                                                            |                                                                                                                                                                                                                                                                                       |                            |                                                                                                                                                                                                                        |            | \t\t\t\t\t\t\t\t\t\t\t part may be reproduced without the written permission. the content is provided for information purposes only. despite its rusty color, this artery of water is important for biodiversity. within the betsiboka river delta, the estuary supplies food, such as seagrasses, to the endangered green turtle and vulnerable dugong, or sea cow.provided bynasacitation:                                                                                                                                                                                                                                                                                                                                                                                                                                                                                                                                                                                                                                                                                                                                                                                                                                                                                                                                                                                                                                                                                                                                                                                                                                                                                                                                                                                                                                                                                                                                                                                                                                                                                                                                                                                                                                                                                                                                                                                                                                                                                                                                                                                                                                                                                                                                                                                                                                                                                                                                                                                                                                                                                                                                                                                                                                                                                                                                                                                                                                                                                                                                                                                                                                                                                                                                                                                                                                                                                                                                                                                                                                                                                                                                                                                                                                                                                                                                                                                                                                                                                                                                                                                                                                                                                                                                                                                                                                                                                                                                                                                                                                                                                                                                                                                                                                                                                                                                                                                                                                                                                                                                                                                                                                                                                                                                                                                                                                                                                                                                                                                                                                                                                                                                                                                                                                                                                                                                                                                                                                                                                                                                                                                                                                                                                                                             |                   |\n",
      "|    |              |             |                |                                                    |                                                                                |                                                                                                                                                                                                                                                                      |                                                                                                                                            |                                                                                                                                                                                                                                                                                       |                            |                                                                                                                                                                                                                        |            | \t\t\t\t\t\t\t\t\t\t\t\timage: rusty red waters in madagascar (2023, october 31)                                                                                                                                                                                                                                                                                                                                                                                                                                                                                                                                                                                                                                                                                                                                                                                                                                                                                                                                                                                                                                                                                                                                                                                                                                                                                                                                                                                                                                                                                                                                                                                                                                                                                                                                                                                                                                                                                                                                                                                                                                                                                                                                                                                                                                                                                                                                                                                                                                                                                                                                                                                                                                                                                                                                                                                                                                                                                                                                                                                                                                                                                                                                                                                                                                                                                                                                                                                                                                                                                                                                                                                                                                                                                                                                                                                                                                                                                                                                                                                                                                                                                                                                                                                                                                                                                                                                                                                                                                                                                                                                                                                                                                                                                                                                                                                                                                                                                                                                                                                                                                                                                                                                                                                                                                                                                                                                                                                                                                                                                                                                                                                                                                                                                                                                                                                                                                                                                                                                                                                                                                                                                                                                                                                                                                                                                                                             |                   |\n",
      "|    |              |             |                |                                                    |                                                                                |                                                                                                                                                                                                                                                                      |                                                                                                                                            |                                                                                                                                                                                                                                                                                       |                            |                                                                                                                                                                                                                        |            | \t\t\t\t\t\t\t\t\t\t\t\tretrieved 3 november 2023                                                                                                                                                                                                                                                                                                                                                                                                                                                                                                                                                                                                                                                                                                                                                                                                                                                                                                                                                                                                                                                                                                                                                                                                                                                                                                                                                                                                                                                                                                                                                                                                                                                                                                                                                                                                                                                                                                                                                                                                                                                                                                                                                                                                                                                                                                                                                                                                                                                                                                                                                                                                                                                                                                                                                                                                                                                                                                                                                                                                                                                                                                                                                                                                                                                                                                                                                                                                                                                                                                                                                                                                                                                                                                                                                                                                                                                                                                                                                                                                                                                                                                                                                                                                                                                                                                                                                                                                                                                                                                                                                                                                                                                                                                                                                                                                                                                                                                                                                                                                                                                                                                                                                                                                                                                                                                                                                                                                                                                                                                                                                                                                                                                                                                                                                                                                                                                                                                                                                                                                                                                                                                                                                                                                                                                                                                                             |                   |\n",
      "|    |              |             |                |                                                    |                                                                                |                                                                                                                                                                                                                                                                      |                                                                                                                                            |                                                                                                                                                                                                                                                                                       |                            |                                                                                                                                                                                                                        |            | \t\t\t\t\t\t\t\t\t\t\t\tfrom https://phys.org/news/2023-10-image-rusty-red-madagascar.htmlthis document is subject to copyright. apart from any fair dealing for the purpose of private study or research, no                                                                                                                                                                                                                                                                                                                                                                                                                                                                                                                                                                                                                                                                                                                                                                                                                                                                                                                                                                                                                                                                                                                                                                                                                                                                                                                                                                                                                                                                                                                                                                                                                                                                                                                                                                                                                                                                                                                                                                                                                                                                                                                                                                                                                                                                                                                                                                                                                                                                                                                                                                                                                                                                                                                                                                                                                                                                                                                                                                                                                                                                                                                                                                                                                                                                                                                                                                                                                                                                                                                                                                                                                                                                                                                                                                                                                                                                                                                                                                                                                                                                                                                                                                                                                                                                                                                                                                                                                                                                                                                                                                                                                                                                                                                                                                                                                                                                                                                                                                                                                                                                                                                                                                                                                                                                                                                                                                                                                                                                                                                                                                                                                                                                                                                                                                                                                                                                                                                                                                                                                                                                                                                                                                                                                                                                                                                             |                   |\n",
      "|    |              |             |                |                                                    |                                                                                |                                                                                                                                                                                                                                                                      |                                                                                                                                            |                                                                                                                                                                                                                                                                                       |                            |                                                                                                                                                                                                                        |            | \t\t\t\t\t\t\t\t\t\t\t part may be reproduced without the written permission. the content is provided for information purposes only. provided bynasa                                                                                                                                                                                                                                                                                                                                                                                                                                                                                                                                                                                                                                                                                                                                                                                                                                                                                                                                                                                                                                                                                                                                                                                                                                                                                                                                                                                                                                                                                                                                                                                                                                                                                                                                                                                                                                                                                                                                                                                                                                                                                                                                                                                                                                                                                                                                                                                                                                                                                                                                                                                                                                                                                                                                                                                                                                                                                                                                                                                                                                                                                                                                                                                                                                                                                                                                                                                                                                                                                                                                                                                                                                                                                                                                                                                                                                                                                                                                                                                                                                                                                                                                                                                                                                                                                                                                                                                                                                                                                                                                                                                                                                                                                                                                                                                                                                                                                                                                                                                                                                                                                                                                                                                                                                                                                                                                                                                                                                                                                                                                                                                                                                                                                                                                                                                                                                                                                                                                                                                                                                                                                                                                                                                                                                                                                                                             |                   |\n",
      "|  4 |        81703 | nan         | Digital Trends | Jason Struss                                       | everything leaving max (formerly hbo max) in november 2023                     | From Gangs of London to Fear the Walking Dead to a lot of Freddy Kruger movies, here are all the films and TV shows leaving Max in November 2023.                                                                                                                    | https://www.digitaltrends.com/movies/everything-leaving-max-in-november-2023/                                                              | https://www.digitaltrends.com/wp-content/uploads/2018/12/best-hulu-shows-killing-eve.jpg?resize=1200%2C630&p=1                                                                                                                                                                        | 2023-10-23 23:09:18.000000 | Everything ends. No, I’m not having an existential crisis; I’m looking at Max‘s lineup in November! While it’s true that the streamer will be adding lots of new shows and movies, it will also be sayi… [+3913 chars] | Madagascar | everything ends. no, i’m not having an existential crisis; i’m looking atmax‘s lineup in november! while it’s true that the streamer will be adding lots of new shows and movies, it will also be saying goodbye to quite a few films and series in november. probably the most significant things leaving max this month are the amc+ showsadiscovery of witches,dark winds,killing eve,interview with the vampire,ride with norman reedus,fear the walking dead, andgangs of london. this isn’t surprising as they were on a three-month loan from the rival streamer. other movies leaving the service include theunderrated horror sequela nightmare on elm street 4, the steamy 1994 thrillerdisclosure, and the classic suburban nightmare filmpoltergeist. check out the list below and try to watch some of these gems before they leave max for good (or at least a long while). editor’s note: this list may not be comprehensive and is subject to change by the network/streamer. november 1 dark winds (amc+) a discovery of witches, season 1-3 (amc+) fear the walking dead, seasons 1-7 (amc+) gangs of london, seasons 1-2 (amc+) interview with the vampire (amc+) killing eve, seasons 1-4 (amc+) ride with norman reedus, seasons 1-5 (amc+) november 2 300: rise of an empire (2014) november 5 hard knocks: in season: the arizona cardinals (hbo original) november 6 the host (2013) november 7 noblesse we are not done yet (2018) (hbo original) november 12 banksy does new york (hbo original) november 14 tsukimichi – moonlit fantasy november 15 2022 rock & roll hall of fame induction ceremony (hbo original) november 25 the howard stern interview: bruce springsteen (hbo original) november 30 10,000 b.c. (2008) absolute power (1997) adam ruins everything, season 2-3 angels in the outfield (1951) the apparition (2012) the asphalt jungle (1950) badlands (1973) black sheep (1996) blade (1998) blade ii (2002) blade: trinity (2004) breach (2007) burn after reading (2008) the carbonaro effect, seasons 2-5 cats (2019) cleopatra (1963) comedy knockout critters (1986) critters 3 (1991) the curse of frankenstein (1957) dark shadows (2012) de blanco la patuda (aka white is for virgins) (2020) the descent (2006) the descent: part 2 (2009) diggers (2007) disclosure (1994) doc hollywood (1991) doctor sleep (2019) dracula a.d. 1972 (1972) dracula has risen from the grave (1969) draft day (2014) the drop (2014) first reformed (2018) the fly (1986) the forbidden kingdom (2008) freddy vs. jason (2003) freddy’s dead: the final nightmare (1991) friday the 13th (2009) gemini (2018) gone girl (2014) green room (2016) the haunting (1963) horror of dracula (1958) the hurt locker (2009) i origins (2014) if beale street could talk (2018) insidious (2010) into the forest (2016) journey 2: the mysterious island (2012) krisha (2016) lakeview terrace (2008) limitless (2011) los dias de la ballena (aka the days of the whale) (2019) lucas (1986) lucky you (2007) madagascar: escape 2 africa (2008) the mask (1994) the maze runner (2014) the middle moonfall (2022) the mummy (1959) narc (2003) the neverending story ii: the next chapter (1991) a nightmare on elm street (1984) a nightmare on elm street 2: freddy’s revenge (1985) a nightmare on elm street 3: dream warriors (1987) a nightmare on elm street 4: the dream master (1988) a nightmare on elm street 5: the dream child (1989) the outsiders (1983) paid off with michael torpey poltergeist (1982) pretty in pink (1986) private benjamin (1980) the purge: anarchy (2014) rachel dratch’s late night snack reindeer games (2000) the rookie (1990) safe haven (2013) the sea of trees (2016) see no evil, hear no evil (1989) the show (2017) signs (2002) some kind of wonderful (1987) soylent green (1973) stephen king’s cat’s eye (1985) talk show the game show team america: world police (2004) temptation: confessions of a marriage counselor (2013) urban cowboy (1980) v for vendetta (2005) wild rose (2019) young frankenstein (1974)                                                                                                                                                                                                                                                                                                                                                                                                                                                                                                                                                                                                                                                                                                                                                                                                                                                                                                                                                                                                                                                                                                                                                                                                                                                                                                                                                                                                                                                                                                                                                                                                                                                                                                                                                                                                                                                                                                                                                                                                                                                                                                                                                                                                            | Neutral           |\n",
      "+----+--------------+-------------+----------------+----------------------------------------------------+--------------------------------------------------------------------------------+----------------------------------------------------------------------------------------------------------------------------------------------------------------------------------------------------------------------------------------------------------------------+--------------------------------------------------------------------------------------------------------------------------------------------+---------------------------------------------------------------------------------------------------------------------------------------------------------------------------------------------------------------------------------------------------------------------------------------+----------------------------+------------------------------------------------------------------------------------------------------------------------------------------------------------------------------------------------------------------------+------------+-----------------------------------------------------------------------------------------------------------------------------------------------------------------------------------------------------------------------------------------------------------------------------------------------------------------------------------------------------------------------------------------------------------------------------------------------------------------------------------------------------------------------------------------------------------------------------------------------------------------------------------------------------------------------------------------------------------------------------------------------------------------------------------------------------------------------------------------------------------------------------------------------------------------------------------------------------------------------------------------------------------------------------------------------------------------------------------------------------------------------------------------------------------------------------------------------------------------------------------------------------------------------------------------------------------------------------------------------------------------------------------------------------------------------------------------------------------------------------------------------------------------------------------------------------------------------------------------------------------------------------------------------------------------------------------------------------------------------------------------------------------------------------------------------------------------------------------------------------------------------------------------------------------------------------------------------------------------------------------------------------------------------------------------------------------------------------------------------------------------------------------------------------------------------------------------------------------------------------------------------------------------------------------------------------------------------------------------------------------------------------------------------------------------------------------------------------------------------------------------------------------------------------------------------------------------------------------------------------------------------------------------------------------------------------------------------------------------------------------------------------------------------------------------------------------------------------------------------------------------------------------------------------------------------------------------------------------------------------------------------------------------------------------------------------------------------------------------------------------------------------------------------------------------------------------------------------------------------------------------------------------------------------------------------------------------------------------------------------------------------------------------------------------------------------------------------------------------------------------------------------------------------------------------------------------------------------------------------------------------------------------------------------------------------------------------------------------------------------------------------------------------------------------------------------------------------------------------------------------------------------------------------------------------------------------------------------------------------------------------------------------------------------------------------------------------------------------------------------------------------------------------------------------------------------------------------------------------------------------------------------------------------------------------------------------------------------------------------------------------------------------------------------------------------------------------------------------------------------------------------------------------------------------------------------------------------------------------------------------------------------------------------------------------------------------------------------------------------------------------------------------------------------------------------------------------------------------------------------------------------------------------------------------------------------------------------------------------------------------------------------------------------------------------------------------------------------------------------------------------------------------------------------------------------------------------------------------------------------------------------------------------------------------------------------------------------------------------------------------------------------------------------------------------------------------------------------------------------------------------------------------------------------------------------------------------------------------------------------------------------------------------------------------------------------------------------------------------------------------------------------------------------------------------------------------------------------------------------------------------------------------------------------------------------------------------------------------------------------------------------------------------------------------------------------------------------------------------------------------------------------------------------------------------------------------------------------------------------------------------------------------------------------------------------------------------------------+-------------------+\n"
     ]
    }
   ],
   "source": [
    "# Display first 5 rows of each dataset\n",
    "# Display first 5 rows of ratings\n",
    "print(\"data_df preview:\", tabulate(data_df.head(), headers='keys', tablefmt='psql'))"
   ]
  },
  {
   "cell_type": "code",
   "execution_count": 22,
   "metadata": {},
   "outputs": [
    {
     "name": "stdout",
     "output_type": "stream",
     "text": [
      "domains_location_df preview: +----+--------------------+------------+-----------+\n",
      "|    | SourceCommonName   | location   | Country   |\n",
      "|----+--------------------+------------+-----------|\n",
      "|  0 | 00221.info         | SG         | Senegal   |\n",
      "|  1 | 01net.com          | FR         | France    |\n",
      "|  2 | 01net.it           | IT         | Italy     |\n",
      "|  3 | 0223.com.ar        | AR         | Argentina |\n",
      "|  4 | 022china.com       | CH         | China     |\n",
      "+----+--------------------+------------+-----------+\n"
     ]
    }
   ],
   "source": [
    "# Display first 5 rows of domains_location\n",
    "print(\"domains_location_df preview:\", tabulate(domains_location_df.head(), headers='keys', tablefmt='psql'))"
   ]
  },
  {
   "cell_type": "code",
   "execution_count": 23,
   "metadata": {},
   "outputs": [
    {
     "name": "stdout",
     "output_type": "stream",
     "text": [
      "traffic_data_df preview: +----+--------------+-----------+---------------+-------+--------------+----------+---------------+-----------+------------------+---------------+------------------+--------------+\n",
      "|    |   GlobalRank |   TldRank | Domain        | TLD   |   RefSubNets |   RefIPs | IDN_Domain    | IDN_TLD   |   PrevGlobalRank |   PrevTldRank |   PrevRefSubNets |   PrevRefIPs |\n",
      "|----+--------------+-----------+---------------+-------+--------------+----------+---------------+-----------+------------------+---------------+------------------+--------------|\n",
      "|  0 |            1 |         1 | google.com    | com   |       471274 |  2151358 | google.com    | com       |                1 |             1 |           471248 |      2147402 |\n",
      "|  1 |            2 |         2 | facebook.com  | com   |       465424 |  2250631 | facebook.com  | com       |                2 |             2 |           465297 |      2247135 |\n",
      "|  2 |            3 |         3 | youtube.com   | com   |       420579 |  1852995 | youtube.com   | com       |                3 |             3 |           420483 |      1848940 |\n",
      "|  3 |            4 |         4 | twitter.com   | com   |       404985 |  1757127 | twitter.com   | com       |                4 |             4 |           404998 |      1753939 |\n",
      "|  4 |            5 |         5 | instagram.com | com   |       364746 |  1598085 | instagram.com | com       |                5 |             5 |           364618 |      1594892 |\n",
      "+----+--------------+-----------+---------------+-------+--------------+----------+---------------+-----------+------------------+---------------+------------------+--------------+\n"
     ]
    }
   ],
   "source": [
    "# Display first 5 rows of traffic data\n",
    "print(\"traffic_data_df preview:\", tabulate(traffic_data_df.head(), headers='keys', tablefmt='psql'))"
   ]
  },
  {
   "cell_type": "code",
   "execution_count": 24,
   "metadata": {},
   "outputs": [
    {
     "name": "stdout",
     "output_type": "stream",
     "text": [
      "\n",
      "data_df summary:\n",
      "           article_id           source_id     source_name           author               title     description                                                url                                       url_to_image         published_at                                            content category    article title_sentiment\n",
      "count    58356.000000               17771           58356            56193               58356           58346                                              58356                                              54905                58356                                              58356    58335      58356           58356\n",
      "unique            NaN                  10              29             7553               53454           53165                                              54583                                              34903                41387                                              52174      256      54148               3\n",
      "top               NaN  the-times-of-india  ETF Daily News  MarketBeat News  Morning news brief  No description  https://www.ibtimes.com/uk-bans-recreational-u...  https://ml.globenewswire.com/Resource/Download...  2023-11-08 10:05:18  Rashmika Mandanna shines in ethnic wear, inspi...    Stock      Liite         Neutral\n",
      "freq              NaN                7504           16746            16742                  12             610                                                  2                                                645                  122                                                129     3687          9           42926\n",
      "mean    298958.734492                 NaN             NaN              NaN                 NaN             NaN                                                NaN                                                NaN                  NaN                                                NaN      NaN        NaN             NaN\n",
      "std     216023.477569                 NaN             NaN              NaN                 NaN             NaN                                                NaN                                                NaN                  NaN                                                NaN      NaN        NaN             NaN\n",
      "min        418.000000                 NaN             NaN              NaN                 NaN             NaN                                                NaN                                                NaN                  NaN                                                NaN      NaN        NaN             NaN\n",
      "25%     121776.500000                 NaN             NaN              NaN                 NaN             NaN                                                NaN                                                NaN                  NaN                                                NaN      NaN        NaN             NaN\n",
      "50%     251651.000000                 NaN             NaN              NaN                 NaN             NaN                                                NaN                                                NaN                  NaN                                                NaN      NaN        NaN             NaN\n",
      "75%     451541.500000                 NaN             NaN              NaN                 NaN             NaN                                                NaN                                                NaN                  NaN                                                NaN      NaN        NaN             NaN\n",
      "max     781308.000000                 NaN             NaN              NaN                 NaN             NaN                                                NaN                                                NaN                  NaN                                                NaN      NaN        NaN             NaN\n",
      "\n",
      "data_df data types:\n",
      "article_id          int64\n",
      "source_id          object\n",
      "source_name        object\n",
      "author             object\n",
      "title              object\n",
      "description        object\n",
      "url                object\n",
      "url_to_image       object\n",
      "published_at       object\n",
      "content            object\n",
      "category           object\n",
      "article            object\n",
      "title_sentiment    object\n",
      "dtype: object\n",
      "\n",
      "domains_location_df summary:\n",
      "           SourceCommonName location        Country\n",
      "count                 37802    37802          37801\n",
      "unique                37472      227            225\n",
      "top     saksfifthavenue.com       US  United States\n",
      "freq                     19    14111          14111\n",
      "\n",
      "domains_location_df data types:\n",
      "SourceCommonName    object\n",
      "location            object\n",
      "Country             object\n",
      "dtype: object\n",
      "\n",
      "traffic_data_df summary:\n",
      "            GlobalRank         TldRank      Domain      TLD      RefSubNets        RefIPs  IDN_Domain  IDN_TLD  PrevGlobalRank     PrevTldRank  PrevRefSubNets    PrevRefIPs\n",
      "count   1000000.000000  1000000.000000     1000000  1000000  1000000.000000  1.000000e+06     1000000  1000000  1000000.000000  1000000.000000  1000000.000000  1.000000e+06\n",
      "unique             NaN             NaN     1000000      840             NaN           NaN     1000000      840             NaN             NaN             NaN           NaN\n",
      "top                NaN             NaN  google.com      com             NaN           NaN  google.com      com             NaN             NaN             NaN           NaN\n",
      "freq               NaN             NaN           1   485328             NaN           NaN           1   485328             NaN             NaN             NaN           NaN\n",
      "mean     500000.500000   125561.303009         NaN      NaN      673.701181  1.435953e+03         NaN      NaN   491269.368692   123337.776967      670.674188  1.421157e+03\n",
      "std      288675.278933   150467.225087         NaN      NaN     2078.111624  6.655037e+03         NaN      NaN   289072.225655   149014.277535     2060.151223  6.603709e+03\n",
      "min           1.000000        1.000000         NaN      NaN      222.000000  2.240000e+02         NaN      NaN       -1.000000       -1.000000       -1.000000 -1.000000e+00\n",
      "25%      250000.750000     5329.000000         NaN      NaN      280.000000  3.340000e+02         NaN      NaN   240862.750000     4879.000000      281.000000  3.340000e+02\n",
      "50%      500000.500000    43228.000000         NaN      NaN      392.000000  4.940000e+02         NaN      NaN   491009.500000    41385.500000      393.000000  4.940000e+02\n",
      "75%      750000.250000   235328.250000         NaN      NaN      733.000000  1.062000e+03         NaN      NaN   741318.250000   230832.250000      734.000000  1.061000e+03\n",
      "max     1000000.000000   485328.000000         NaN      NaN   471274.000000  2.250631e+06         NaN      NaN  1000000.000000   485782.000000   471248.000000  2.247135e+06\n",
      "\n",
      "traffic_data_df data types:\n",
      "GlobalRank         int64\n",
      "TldRank            int64\n",
      "Domain            object\n",
      "TLD               object\n",
      "RefSubNets         int64\n",
      "RefIPs             int64\n",
      "IDN_Domain        object\n",
      "IDN_TLD           object\n",
      "PrevGlobalRank     int64\n",
      "PrevTldRank        int64\n",
      "PrevRefSubNets     int64\n",
      "PrevRefIPs         int64\n",
      "dtype: object\n"
     ]
    }
   ],
   "source": [
    "# Summary statistics and data types\n",
    "print(\"\\ndata_df summary:\")\n",
    "print(data_df.describe(include='all'))\n",
    "print(\"\\ndata_df data types:\")\n",
    "print(data_df.dtypes)\n",
    "\n",
    "print(\"\\ndomains_location_df summary:\")\n",
    "print(domains_location_df.describe(include='all'))\n",
    "print(\"\\ndomains_location_df data types:\")\n",
    "print(domains_location_df.dtypes)\n",
    "\n",
    "print(\"\\ntraffic_data_df summary:\")\n",
    "print(traffic_data_df.describe(include='all'))\n",
    "print(\"\\ntraffic_data_df data types:\")\n",
    "print(traffic_data_df.dtypes)\n"
   ]
  },
  {
   "cell_type": "code",
   "execution_count": 25,
   "metadata": {},
   "outputs": [
    {
     "name": "stdout",
     "output_type": "stream",
     "text": [
      "\n",
      "Missing values in data_df:\n",
      "article_id             0\n",
      "source_id          40585\n",
      "source_name            0\n",
      "author              2163\n",
      "title                  0\n",
      "description           10\n",
      "url                    0\n",
      "url_to_image        3451\n",
      "published_at           0\n",
      "content                0\n",
      "category              21\n",
      "article                0\n",
      "title_sentiment        0\n",
      "dtype: int64\n",
      "\n",
      "Missing values in domains_location_df:\n",
      "SourceCommonName    0\n",
      "location            0\n",
      "Country             1\n",
      "dtype: int64\n",
      "\n",
      "Missing values in traffic_data_df:\n",
      "GlobalRank        0\n",
      "TldRank           0\n",
      "Domain            0\n",
      "TLD               0\n",
      "RefSubNets        0\n",
      "RefIPs            0\n",
      "IDN_Domain        0\n",
      "IDN_TLD           0\n",
      "PrevGlobalRank    0\n",
      "PrevTldRank       0\n",
      "PrevRefSubNets    0\n",
      "PrevRefIPs        0\n",
      "dtype: int64\n"
     ]
    }
   ],
   "source": [
    "# Missing values summary\n",
    "print(\"\\nMissing values in data_df:\")\n",
    "print(data_df.isnull().sum())\n",
    "\n",
    "print(\"\\nMissing values in domains_location_df:\")\n",
    "print(domains_location_df.isnull().sum())\n",
    "\n",
    "print(\"\\nMissing values in traffic_data_df:\")\n",
    "print(traffic_data_df.isnull().sum())\n"
   ]
  },
  {
   "cell_type": "code",
   "execution_count": 26,
   "metadata": {},
   "outputs": [
    {
     "name": "stdout",
     "output_type": "stream",
     "text": [
      "\n",
      "Outliers in data_df:\n",
      "article_id    0\n",
      "dtype: int64\n",
      "\n",
      "Outliers in domains_location_df:\n",
      "Series([], dtype: float64)\n",
      "\n",
      "Outliers in traffic_data_df:\n",
      "GlobalRank             0\n",
      "TldRank                0\n",
      "RefSubNets         58246\n",
      "RefIPs            152619\n",
      "PrevGlobalRank         0\n",
      "PrevTldRank            0\n",
      "PrevRefSubNets     57798\n",
      "PrevRefIPs        152589\n",
      "dtype: int64\n"
     ]
    }
   ],
   "source": [
    "# Simple check for outliers using the interquartile range (IQR)\n",
    "def find_outliers(df):\n",
    "    Q1 = df.quantile(0.25)\n",
    "    Q3 = df.quantile(0.75)\n",
    "    IQR = Q3 - Q1\n",
    "    return ((df < (Q1 - 1.5 * IQR)) | (df > (Q3 + 1.5 * IQR))).sum()\n",
    "\n",
    "print(\"\\nOutliers in data_df:\")\n",
    "print(find_outliers(data_df.select_dtypes(include=['number'])))\n",
    "\n",
    "print(\"\\nOutliers in domains_location_df:\")\n",
    "print(find_outliers(domains_location_df.select_dtypes(include=['number'])))\n",
    "\n",
    "print(\"\\nOutliers in traffic_data_df:\")\n",
    "print(find_outliers(traffic_data_df.select_dtypes(include=['number'])))"
   ]
  },
  {
   "cell_type": "markdown",
   "metadata": {},
   "source": [
    "Data Preparation"
   ]
  },
  {
   "cell_type": "markdown",
   "metadata": {},
   "source": [
    "Missing Values"
   ]
  },
  {
   "cell_type": "code",
   "execution_count": 30,
   "metadata": {},
   "outputs": [],
   "source": [
    "# Fill missing values with 'Unknown' for categorical data\n",
    "data_df['source_id'] = data_df['source_id'].fillna('Unknown')\n",
    "data_df['author'] = data_df['author'].fillna('Unknown')\n",
    "data_df['category'] = data_df['category'].fillna('Unknown')\n",
    "\n",
    "# Fill missing values with 'No description' for text data\n",
    "data_df['description'] = data_df['description'].fillna('No description')\n",
    "\n",
    "# Fill missing URL values with 'No image'\n",
    "data_df['url_to_image'] = data_df['url_to_image'].fillna('No image')\n",
    "\n"
   ]
  },
  {
   "cell_type": "code",
   "execution_count": 39,
   "metadata": {},
   "outputs": [],
   "source": [
    "# Fill missing value with 'Unknown'\n",
    "domains_location_df['Country'] = domains_location_df['Country'].fillna('Unknown')\n"
   ]
  },
  {
   "cell_type": "code",
   "execution_count": 40,
   "metadata": {},
   "outputs": [
    {
     "name": "stdout",
     "output_type": "stream",
     "text": [
      "\n",
      "Missing values in data_df:\n",
      "article_id         0\n",
      "source_id          0\n",
      "source_name        0\n",
      "author             0\n",
      "title              0\n",
      "description        0\n",
      "url                0\n",
      "url_to_image       0\n",
      "published_at       0\n",
      "content            0\n",
      "category           0\n",
      "article            0\n",
      "title_sentiment    0\n",
      "dtype: int64\n",
      "\n",
      "Missing values in domains_location_df:\n",
      "SourceCommonName    0\n",
      "location            0\n",
      "Country             0\n",
      "dtype: int64\n",
      "\n",
      "Missing values in traffic_data_df:\n",
      "GlobalRank        0\n",
      "TldRank           0\n",
      "Domain            0\n",
      "TLD               0\n",
      "RefSubNets        0\n",
      "RefIPs            0\n",
      "IDN_Domain        0\n",
      "IDN_TLD           0\n",
      "PrevGlobalRank    0\n",
      "PrevTldRank       0\n",
      "PrevRefSubNets    0\n",
      "PrevRefIPs        0\n",
      "dtype: int64\n"
     ]
    }
   ],
   "source": [
    "# Missing values summary\n",
    "print(\"\\nMissing values in data_df:\")\n",
    "print(data_df.isnull().sum())\n",
    "\n",
    "print(\"\\nMissing values in domains_location_df:\")\n",
    "print(domains_location_df.isnull().sum())\n",
    "\n",
    "print(\"\\nMissing values in traffic_data_df:\")\n",
    "print(traffic_data_df.isnull().sum())"
   ]
  },
  {
   "cell_type": "code",
   "execution_count": 41,
   "metadata": {},
   "outputs": [
    {
     "name": "stdout",
     "output_type": "stream",
     "text": [
      "data_df has 58356 rows and 13 columns.\n",
      "domains_location_df has 37802 rows and 3 columns.\n",
      "traffic_data_df has 1000000 rows and 12 columns.\n"
     ]
    }
   ],
   "source": [
    "# Display the shape of each DataFrame\n",
    "print(f'data_df has {data_df.shape[0]} rows and {data_df.shape[1]} columns.')\n",
    "print(f'domains_location_df has {domains_location_df.shape[0]} rows and {domains_location_df.shape[1]} columns.')\n",
    "print(f'traffic_data_df has {traffic_data_df.shape[0]} rows and {traffic_data_df.shape[1]} columns.')"
   ]
  },
  {
   "cell_type": "markdown",
   "metadata": {},
   "source": [
    "Outliers"
   ]
  },
  {
   "cell_type": "code",
   "execution_count": 42,
   "metadata": {},
   "outputs": [],
   "source": [
    "# Calculate the 95th percentile values for each column\n",
    "cap_values = traffic_data_df[['RefSubNets', 'RefIPs', 'PrevRefSubNets', 'PrevRefIPs']].quantile(0.95)\n",
    "\n",
    "# Convert cap_values to a dictionary\n",
    "cap_dict = cap_values.to_dict()\n",
    "\n",
    "# Clip the outliers using the cap values\n",
    "traffic_data_df[['RefSubNets', 'RefIPs', 'PrevRefSubNets', 'PrevRefIPs']] = traffic_data_df[['RefSubNets', 'RefIPs', 'PrevRefSubNets', 'PrevRefIPs']].clip(upper=cap_dict)\n"
   ]
  },
  {
   "cell_type": "markdown",
   "metadata": {},
   "source": [
    "Data Transformation"
   ]
  },
  {
   "cell_type": "code",
   "execution_count": 43,
   "metadata": {},
   "outputs": [],
   "source": [
    "from sklearn.preprocessing import StandardScaler\n",
    "\n",
    "# Normalizing numerical columns in traffic_data_df\n",
    "scaler = StandardScaler()\n",
    "numerical_columns = ['GlobalRank', 'TldRank', 'RefSubNets', 'RefIPs', 'PrevGlobalRank', 'PrevTldRank', 'PrevRefSubNets', 'PrevRefIPs']\n",
    "traffic_data_df[numerical_columns] = scaler.fit_transform(traffic_data_df[numerical_columns])\n"
   ]
  },
  {
   "cell_type": "markdown",
   "metadata": {},
   "source": [
    "Feature Engineering"
   ]
  },
  {
   "cell_type": "code",
   "execution_count": 45,
   "metadata": {},
   "outputs": [
    {
     "name": "stdout",
     "output_type": "stream",
     "text": [
      "0    2023-11-01 03:27:21.000000\n",
      "1    2023-10-27 21:28:48.000000\n",
      "2    2023-10-04 17:36:18.000000\n",
      "3    2023-10-31 18:04:02.000000\n",
      "4    2023-10-23 23:09:18.000000\n",
      "5    2023-10-27 22:16:05.000000\n",
      "6    2023-10-12 10:40:48.000000\n",
      "7    2023-10-19 20:02:03.000000\n",
      "8    2023-10-11 14:30:00.000000\n",
      "9    2023-10-13 15:34:20.000000\n",
      "Name: published_at, dtype: object\n"
     ]
    }
   ],
   "source": [
    "# Display a sample of the 'published_at' column to understand its format\n",
    "print(data_df['published_at'].head(10))\n"
   ]
  },
  {
   "cell_type": "code",
   "execution_count": 46,
   "metadata": {},
   "outputs": [],
   "source": [
    "# Convert 'published_at' to datetime with explicit format\n",
    "data_df['published_at'] = pd.to_datetime(data_df['published_at'], format='%Y-%m-%d %H:%M:%S.%f', errors='coerce')\n",
    "\n",
    "# Extract date-related features\n",
    "data_df['published_year'] = data_df['published_at'].dt.year\n",
    "data_df['published_month'] = data_df['published_at'].dt.month\n",
    "data_df['published_day'] = data_df['published_at'].dt.day\n"
   ]
  },
  {
   "cell_type": "code",
   "execution_count": 47,
   "metadata": {},
   "outputs": [
    {
     "name": "stdout",
     "output_type": "stream",
     "text": [
      "42673\n"
     ]
    }
   ],
   "source": [
    "# Check for NaT values in the 'published_at' column\n",
    "print(data_df['published_at'].isna().sum())"
   ]
  },
  {
   "cell_type": "code",
   "execution_count": 50,
   "metadata": {},
   "outputs": [
    {
     "name": "stdout",
     "output_type": "stream",
     "text": [
      "datetime64[ns]\n",
      "      article_id source_id         source_name                            author                                              title                                        description                                                url                                       url_to_image published_at                                            content  category                                            article title_sentiment  title_length  description_length  content_length  published_year  published_month  published_day\n",
      "1104      151617  bbc-news            BBC News  https://www.facebook.com/bbcnews  Man contracts sepsis after paddle in River Kennet  Gordon Pepper believes a sewage treatment work...  https://www.bbc.co.uk/news/uk-england-wiltshir...  https://ichef.bbci.co.uk/news/1024/branded_new...          NaT  A man says he was left fighting for his life a...  Facebook  A man says he was left fighting for his life a...         Neutral            49                  86             212             NaN              NaN            NaN\n",
      "1224      231500   Unknown            BBC News  https://www.facebook.com/bbcnews                What is GDP and how is it measured?  A basic guide to how the economy is measured a...         https://www.bbc.com/news/business-13200758  https://ichef.bbci.co.uk/news/1024/branded_new...          NaT  GDP - or Gross Domestic Product - is an import...     COVID  GDP - or Gross Domestic Product - is an import...         Neutral            35                  78             213             NaN              NaN            NaN\n",
      "1363      155002   Unknown            BBC News                 Kathryn Armstrong  Hamburg Airport hostage drama is over, police say  A man has been arrested after 18 hours, with h...     https://www.bbc.com/news/world-europe-67326185  https://ichef.bbci.co.uk/news/1024/branded_new...          NaT  A hostage situation at Hamburg Airport involvi...    Travel  A hostage situation at Hamburg Airport involvi...         Neutral            49                  90             213             NaN              NaN            NaN\n",
      "1394      182312        rt                  RT                                RT            Ukraine facing ‘worst winter ever’ – FM  Ukraine is preparing for “the worst winter” in...  https://www.rt.com/russia/586729-ukraine-worst...  https://mf.b37mrtl.ru/files/2023.11/article/65...          NaT  Ukraine is bracing for “the worst winter” in i...   History  Ukraine is bracing for“the worst winter”in its...        Negative            39                 127             214             NaN              NaN            NaN\n",
      "1461      234353   Unknown  Globalsecurity.org                         John Pike              USS New York Arrives in New York City  The Amphibious Assault Ship USS New York (LPD ...  https://www.globalsecurity.org/military/librar...                                           No image          NaT  US Navy\\n09 November 2023From Lt.j.g. Nickolas...    Sports   US Navy 09 November 2023From Lt.j.g. Nickolas...         Neutral            37                 151             212             NaN              NaN            NaN\n"
     ]
    }
   ],
   "source": [
    "# Check the data type of 'published_at' to confirm conversion\n",
    "print(data_df['published_at'].dtype)\n",
    "\n",
    "# Check for NaT values\n",
    "missing_dates = data_df[data_df['published_at'].isna()]\n",
    "print(missing_dates.head())\n"
   ]
  },
  {
   "cell_type": "code",
   "execution_count": 51,
   "metadata": {},
   "outputs": [
    {
     "name": "stdout",
     "output_type": "stream",
     "text": [
      "Total rows in dataset: 58356\n",
      "Missing values in 'published_at': 42673\n",
      "Percentage of missing values: 73.13%\n"
     ]
    }
   ],
   "source": [
    "# Calculate the total number of rows in the dataset\n",
    "total_rows = data_df.shape[0]\n",
    "\n",
    "# Calculate the number of missing values in 'published_at'\n",
    "missing_values_count = data_df['published_at'].isna().sum()\n",
    "\n",
    "# Calculate the percentage of missing values\n",
    "missing_percentage = (missing_values_count / total_rows) * 100\n",
    "\n",
    "# Print the results\n",
    "print(f\"Total rows in dataset: {total_rows}\")\n",
    "print(f\"Missing values in 'published_at': {missing_values_count}\")\n",
    "print(f\"Percentage of missing values: {missing_percentage:.2f}%\")\n"
   ]
  },
  {
   "cell_type": "code",
   "execution_count": 52,
   "metadata": {},
   "outputs": [
    {
     "name": "stdout",
     "output_type": "stream",
     "text": [
      "Remaining columns in the DataFrame: Index(['article_id', 'source_id', 'source_name', 'author', 'title', 'description', 'url', 'url_to_image', 'content', 'category', 'article', 'title_sentiment', 'title_length', 'description_length', 'content_length'], dtype='object')\n"
     ]
    }
   ],
   "source": [
    "# List of columns to drop, including the engineered features\n",
    "columns_to_drop = ['published_at', 'published_year', 'published_month', 'published_day']\n",
    "\n",
    "# Drop the specified columns from the DataFrame\n",
    "data_df.drop(columns=columns_to_drop, inplace=True)\n",
    "\n",
    "# Verify the changes by checking the DataFrame's columns\n",
    "print(\"Remaining columns in the DataFrame:\", data_df.columns)\n"
   ]
  },
  {
   "cell_type": "code",
   "execution_count": 53,
   "metadata": {},
   "outputs": [],
   "source": [
    "# Create text length features\n",
    "data_df['title_length'] = data_df['title'].apply(len)\n",
    "data_df['description_length'] = data_df['description'].apply(len)\n",
    "data_df['content_length'] = data_df['content'].apply(len)"
   ]
  },
  {
   "cell_type": "code",
   "execution_count": 55,
   "metadata": {},
   "outputs": [
    {
     "name": "stdout",
     "output_type": "stream",
     "text": [
      "       title_length  description_length  content_length\n",
      "count  58356.000000        58356.000000    58356.000000\n",
      "mean      76.767033          207.703252      207.838920\n",
      "std       26.009651           65.946573       28.566682\n",
      "min       12.000000            1.000000       25.000000\n",
      "25%       60.000000          151.000000      213.000000\n",
      "50%       73.000000          260.000000      214.000000\n",
      "75%       89.000000          260.000000      214.000000\n",
      "max      326.000000          260.000000      216.000000\n"
     ]
    }
   ],
   "source": [
    "# Get summary statistics for the new text length features\n",
    "print(data_df[['title_length', 'description_length', 'content_length']].describe())"
   ]
  },
  {
   "cell_type": "code",
   "execution_count": 60,
   "metadata": {},
   "outputs": [],
   "source": [
    "# Merge data_df with domains_location_df on a common key (i.e., source_id or SourceCommonName)\n",
    "merged_df = pd.merge(data_df, domains_location_df, left_on='source_id', right_on='SourceCommonName', how='left')\n",
    "\n",
    "# Merge the result with traffic_data_df on another common key (i.e., Domain)\n",
    "final_df = pd.merge(merged_df, traffic_data_df, left_on='source_name', right_on='Domain', how='left')\n"
   ]
  },
  {
   "cell_type": "code",
   "execution_count": 77,
   "metadata": {},
   "outputs": [
    {
     "name": "stdout",
     "output_type": "stream",
     "text": [
      "Index(['article_id', 'source_id', 'source_name', 'author', 'title', 'description', 'url', 'url_to_image', 'content', 'category', 'article', 'title_sentiment', 'title_length', 'description_length', 'content_length', 'SourceCommonName', 'location', 'Country', 'GlobalRank', 'TldRank', 'Domain', 'TLD', 'RefSubNets', 'RefIPs', 'IDN_Domain', 'IDN_TLD', 'PrevGlobalRank', 'PrevTldRank', 'PrevRefSubNets', 'PrevRefIPs'], dtype='object')\n"
     ]
    }
   ],
   "source": [
    "print(final_df.columns)"
   ]
  },
  {
   "cell_type": "markdown",
   "metadata": {},
   "source": [
    "Exploratory Data Analysis"
   ]
  },
  {
   "cell_type": "markdown",
   "metadata": {},
   "source": [
    "Top and Bottom 10 "
   ]
  },
  {
   "cell_type": "code",
   "execution_count": 70,
   "metadata": {},
   "outputs": [
    {
     "name": "stdout",
     "output_type": "stream",
     "text": [
      "Top 10 Websites by Count of News Articles:\n",
      "source_name\n",
      "ETF Daily News        16746\n",
      "The Times of India     7504\n",
      "GlobeNewswire          5423\n",
      "Globalsecurity.org     3119\n",
      "Forbes                 2784\n",
      "BBC News               2113\n",
      "ABC News               2058\n",
      "Business Insider       2034\n",
      "The Punch              1800\n",
      "Al Jazeera English     1664\n",
      "Name: count, dtype: int64\n",
      "\n",
      "Bottom 10 Websites by Count of News Articles:\n",
      "source_name\n",
      "CNA                            674\n",
      "Time                           600\n",
      "Android Central                522\n",
      "Gizmodo.com                    388\n",
      "ReadWrite                      324\n",
      "Euronews                       286\n",
      "Wired                          270\n",
      "CNN                            267\n",
      "The Verge                      214\n",
      "AllAfrica - Top Africa News     20\n",
      "Name: count, dtype: int64\n"
     ]
    }
   ],
   "source": [
    "# 1. Top and bottom 10 websites by count of news articles\n",
    "article_counts = final_df['source_name'].value_counts()\n",
    "top_10_websites = article_counts.head(10)\n",
    "bottom_10_websites = article_counts.tail(10)\n",
    "\n",
    "print(\"Top 10 Websites by Count of News Articles:\")\n",
    "print(top_10_websites)\n",
    "\n",
    "print(\"\\nBottom 10 Websites by Count of News Articles:\")\n",
    "print(bottom_10_websites)"
   ]
  },
  {
   "cell_type": "markdown",
   "metadata": {},
   "source": [
    "Highest Traffic Visitors"
   ]
  },
  {
   "cell_type": "code",
   "execution_count": 66,
   "metadata": {},
   "outputs": [
    {
     "name": "stdout",
     "output_type": "stream",
     "text": [
      "\n",
      "Top 10 Websites by Number of Visitors Traffic:\n",
      "          source_name  GlobalRank\n",
      "0              Forbes         NaN\n",
      "1                 CNA         NaN\n",
      "2                Time         NaN\n",
      "3            Phys.Org         NaN\n",
      "4      Digital Trends         NaN\n",
      "5  Al Jazeera English         NaN\n",
      "6            BBC News         NaN\n",
      "7            Phys.Org         NaN\n",
      "8            Deadline         NaN\n",
      "9            Euronews         NaN\n"
     ]
    }
   ],
   "source": [
    "# Top 10 websites by traffic (highest GlobalRank)\n",
    "top_10_websites_traffic = final_df[['source_name', 'GlobalRank']].sort_values(by='GlobalRank').head(10)\n",
    "print(\"\\nTop 10 Websites by Number of Visitors Traffic:\")\n",
    "print(top_10_websites_traffic)\n"
   ]
  },
  {
   "cell_type": "markdown",
   "metadata": {},
   "source": [
    "Countries with the Highest Number of News Media Organizations"
   ]
  },
  {
   "cell_type": "code",
   "execution_count": 78,
   "metadata": {},
   "outputs": [
    {
     "name": "stdout",
     "output_type": "stream",
     "text": [
      "Countries with the Highest Number of News Media Organizations:\n",
      "Series([], Name: source_name, dtype: int64)\n"
     ]
    }
   ],
   "source": [
    "# Count number of domains per country\n",
    "country_counts = domains_location_df['Country'].value_counts()\n",
    "print(\"Countries with the highest number of news media organisations:\")\n",
    "print(country_counts.head(10))"
   ]
  },
  {
   "cell_type": "markdown",
   "metadata": {},
   "source": [
    "Countries with Many Articles Written About Them"
   ]
  },
  {
   "cell_type": "code",
   "execution_count": 79,
   "metadata": {},
   "outputs": [
    {
     "name": "stdout",
     "output_type": "stream",
     "text": [
      "Countries with many articles written about them:\n",
      "Africa: 724 articles\n",
      "US: 20244 articles\n",
      "China: 1000 articles\n",
      "EU: 3195 articles\n",
      "Russia: 1312 articles\n",
      "Ukraine: 868 articles\n",
      "Middle East: 192 articles\n"
     ]
    }
   ],
   "source": [
    "# Define the list of keywords representing specific countries or regions\n",
    "keywords = ['Africa', 'US', 'China', 'EU', 'Russia', 'Ukraine', 'Middle East']\n",
    "\n",
    "# Convert the 'content' column to lowercase for case-insensitive search\n",
    "final_df['content_lower'] = final_df['content'].str.lower()\n",
    "\n",
    "# Count the number of articles containing each keyword\n",
    "country_counts_in_articles = {keyword: final_df['content_lower'].str.contains(keyword.lower(), na=False).sum() for keyword in keywords}\n",
    "\n",
    "# Print the number of articles related to each keyword\n",
    "print(\"Countries with many articles written about them:\")\n",
    "for keyword, count in country_counts_in_articles.items():\n",
    "    print(f\"{keyword}: {count} articles\")\n"
   ]
  },
  {
   "cell_type": "markdown",
   "metadata": {},
   "source": [
    "Websites Reporting About Specific Regions"
   ]
  },
  {
   "cell_type": "code",
   "execution_count": 81,
   "metadata": {},
   "outputs": [
    {
     "name": "stdout",
     "output_type": "stream",
     "text": [
      "Websites Reporting About Specific Regions:\n",
      "\n",
      "Region: Africa\n",
      "source_name\n",
      "The Punch             158\n",
      "The Times of India    144\n",
      "RT                     69\n",
      "Marketscreener.com     43\n",
      "BBC News               42\n",
      "Al Jazeera English     38\n",
      "ABC News               32\n",
      "Globalsecurity.org     32\n",
      "CNA                    31\n",
      "GlobeNewswire          29\n",
      "Name: count, dtype: int64\n",
      "\n",
      "Region: EU\n",
      "source_name\n",
      "ETF Daily News                  766\n",
      "GlobeNewswire                   354\n",
      "Marketscreener.com              244\n",
      "The Times of India              220\n",
      "Globalsecurity.org              217\n",
      "RT                              177\n",
      "Forbes                          163\n",
      "Business Insider                155\n",
      "ABC News                        106\n",
      "International Business Times    100\n",
      "Name: count, dtype: int64\n",
      "\n",
      "Region: Middle East\n",
      "source_name\n",
      "Globalsecurity.org    34\n",
      "RT                    29\n",
      "Al Jazeera English    28\n",
      "The Times of India    19\n",
      "CNN                   14\n",
      "BBC News              11\n",
      "GlobeNewswire         11\n",
      "Business Insider      10\n",
      "ABC News               6\n",
      "NPR                    5\n",
      "Name: count, dtype: int64\n"
     ]
    }
   ],
   "source": [
    "# Define keywords for regions\n",
    "regions = {\n",
    "    'Africa': ['Africa'],\n",
    "    'EU': ['EU', 'European Union'],\n",
    "    'Middle East': ['Middle East']\n",
    "}\n",
    "\n",
    "# Function to check if content contains any of the keywords for a region\n",
    "def contains_keywords(text, keywords):\n",
    "    return any(keyword.lower() in text.lower() for keyword in keywords)\n",
    "\n",
    "# Convert the 'content' column to lowercase for case-insensitive search\n",
    "final_df['content_lower'] = final_df['content'].str.lower()\n",
    "\n",
    "# Initialize a dictionary to store results\n",
    "region_website_counts = {region: {} for region in regions.keys()}\n",
    "\n",
    "# Iterate over each region and count the number of articles by website\n",
    "for region, keywords in regions.items():\n",
    "    # Filter rows that contain keywords for the current region\n",
    "    region_df = final_df[final_df['content_lower'].apply(lambda x: contains_keywords(x, keywords))]\n",
    "    \n",
    "    # Count articles by website for the current region\n",
    "    website_counts = region_df['source_name'].value_counts()\n",
    "    \n",
    "    # Store the counts in the dictionary\n",
    "    region_website_counts[region] = website_counts\n",
    "\n",
    "# Print the number of articles reported by each website for each region\n",
    "print(\"Websites Reporting About Specific Regions:\")\n",
    "for region, website_counts in region_website_counts.items():\n",
    "    print(f\"\\nRegion: {region}\")\n",
    "    print(website_counts.head(10))  # Display top 10 websites by article count for the region\n"
   ]
  },
  {
   "cell_type": "markdown",
   "metadata": {},
   "source": [
    "Websites with the Highest Count of Positive, Neutral, and Negative Sentiments"
   ]
  },
  {
   "cell_type": "code",
   "execution_count": 83,
   "metadata": {},
   "outputs": [
    {
     "name": "stdout",
     "output_type": "stream",
     "text": [
      "Websites with the Highest Count of Positive, Neutral, and Negative Sentiments:\n",
      "\n",
      "Top Websites by Positive Sentiments:\n",
      "title_sentiment     Negative  Neutral  Positive\n",
      "source_name                                    \n",
      "The Times of India      1210     5149      1145\n",
      "ETF Daily News           560    15194       992\n",
      "GlobeNewswire             27     4491       905\n",
      "Forbes                   216     1933       635\n",
      "Digital Trends            43      335       406\n",
      "Android Central           38      212       272\n",
      "Business Insider         890      907       237\n",
      "Boing Boing              250      293       170\n",
      "Marketscreener.com        42     1167       153\n",
      "Phys.Org                 284      836       143\n",
      "\n",
      "Top Websites by Neutral Sentiments:\n",
      "title_sentiment     Negative  Neutral  Positive\n",
      "source_name                                    \n",
      "ETF Daily News           560    15194       992\n",
      "The Times of India      1210     5149      1145\n",
      "GlobeNewswire             27     4491       905\n",
      "Globalsecurity.org       747     2255       117\n",
      "Forbes                   216     1933       635\n",
      "The Punch                455     1229       116\n",
      "ABC News                 726     1193       139\n",
      "BBC News                 854     1185        74\n",
      "Marketscreener.com        42     1167       153\n",
      "Al Jazeera English       706      927        31\n",
      "\n",
      "Top Websites by Negative Sentiments:\n",
      "title_sentiment               Negative  Neutral  Positive\n",
      "source_name                                              \n",
      "The Times of India                1210     5149      1145\n",
      "Business Insider                   890      907       237\n",
      "BBC News                           854     1185        74\n",
      "Globalsecurity.org                 747     2255       117\n",
      "ABC News                           726     1193       139\n",
      "Al Jazeera English                 706      927        31\n",
      "ETF Daily News                     560    15194       992\n",
      "The Punch                          455     1229       116\n",
      "RT                                 403      698        27\n",
      "International Business Times       319      844        44\n"
     ]
    }
   ],
   "source": [
    "# Group by 'source_name' and count the occurrences of each sentiment\n",
    "sentiment_counts = final_df.groupby(['source_name', 'title_sentiment']).size().unstack(fill_value=0)\n",
    "\n",
    "# Print top websites for each sentiment type\n",
    "print(\"Websites with the Highest Count of Positive, Neutral, and Negative Sentiments:\")\n",
    "\n",
    "# For each sentiment type, display the top 10 websites\n",
    "for sentiment in ['Positive', 'Neutral', 'Negative']:\n",
    "    if sentiment in sentiment_counts.columns:\n",
    "        top_websites = sentiment_counts.sort_values(by=sentiment, ascending=False)\n",
    "        print(f\"\\nTop Websites by {sentiment} Sentiments:\")\n",
    "        print(top_websites.head(10))\n",
    "    else:\n",
    "        print(f\"\\nNo data available for {sentiment} sentiment.\")\n"
   ]
  },
  {
   "cell_type": "markdown",
   "metadata": {},
   "source": [
    "Compare Mean/Median Sentiment"
   ]
  },
  {
   "cell_type": "code",
   "execution_count": 84,
   "metadata": {},
   "outputs": [
    {
     "name": "stdout",
     "output_type": "stream",
     "text": [
      "Websites with the Highest Mean Sentiment:\n",
      "                        mean  median\n",
      "source_name                         \n",
      "Digital Trends      0.463010     1.0\n",
      "Android Central     0.448276     1.0\n",
      "GlobeNewswire       0.161903     0.0\n",
      "Forbes              0.150503     0.0\n",
      "The Verge           0.121495     0.0\n",
      "ReadWrite           0.098765     0.0\n",
      "Marketscreener.com  0.081498     0.0\n",
      "ETF Daily News      0.025797     0.0\n",
      "Wired               0.007407     0.0\n",
      "The Times of India -0.008662     0.0\n",
      "\n",
      "Websites with the Highest Median Sentiment:\n",
      "                        mean  median\n",
      "source_name                         \n",
      "Android Central     0.448276     1.0\n",
      "Digital Trends      0.463010     1.0\n",
      "ABC News           -0.285228     0.0\n",
      "GlobeNewswire       0.161903     0.0\n",
      "Time               -0.253333     0.0\n",
      "The Verge           0.121495     0.0\n",
      "The Times of India -0.008662     0.0\n",
      "The Punch          -0.188333     0.0\n",
      "The Indian Express -0.096088     0.0\n",
      "ReadWrite           0.098765     0.0\n"
     ]
    }
   ],
   "source": [
    "# Convert sentiment labels to numerical values\n",
    "sentiment_mapping = {'Positive': 1, 'Neutral': 0, 'Negative': -1}\n",
    "final_df['sentiment_value'] = final_df['title_sentiment'].map(sentiment_mapping)\n",
    "\n",
    "# Group by 'source_name' and calculate mean and median sentiment values\n",
    "sentiment_stats = final_df.groupby('source_name')['sentiment_value'].agg(['mean', 'median'])\n",
    "\n",
    "# Print the top 10 websites by mean sentiment\n",
    "print(\"Websites with the Highest Mean Sentiment:\")\n",
    "print(sentiment_stats.sort_values(by='mean', ascending=False).head(10))\n",
    "\n",
    "# Print the top 10 websites by median sentiment\n",
    "print(\"\\nWebsites with the Highest Median Sentiment:\")\n",
    "print(sentiment_stats.sort_values(by='median', ascending=False).head(10))\n"
   ]
  },
  {
   "cell_type": "markdown",
   "metadata": {},
   "source": [
    "Distribution of Sentiments for a Particular Domain"
   ]
  },
  {
   "cell_type": "code",
   "execution_count": 88,
   "metadata": {},
   "outputs": [
    {
     "name": "stderr",
     "output_type": "stream",
     "text": [
      "No artists with labels found to put in legend.  Note that artists whose label start with an underscore are ignored when legend() is called with no argument.\n"
     ]
    },
    {
     "data": {
      "image/png": "[encoded data removed]",
      "text/plain": [
       "<Figure size 1500x1000 with 1 Axes>"
      ]
     },
     "metadata": {},
     "output_type": "display_data"
    }
   ],
   "source": [
    "# Get the top 20 domains by number of visitors (using 'GlobalRank')\n",
    "top_domains = final_df[['Domain', 'GlobalRank']].dropna().drop_duplicates()\n",
    "top_domains = top_domains.sort_values(by='GlobalRank').head(20)['Domain']\n",
    "\n",
    "# Filter the final_df for these top 20 domains\n",
    "top_domains_df = final_df[final_df['Domain'].isin(top_domains)]\n",
    "\n",
    "# Group by domain and calculate sentiment counts\n",
    "domain_sentiment_counts = top_domains_df.groupby('Domain')['title_sentiment'].value_counts().unstack(fill_value=0)\n",
    "\n",
    "# Plot the sentiment distribution for each top domain\n",
    "plt.figure(figsize=(15, 10))\n",
    "\n",
    "# Plot each domain's sentiment distribution\n",
    "for domain in top_domains:\n",
    "    if domain in domain_sentiment_counts.index:\n",
    "        sentiment_counts = domain_sentiment_counts.loc[domain]\n",
    "        plt.bar(sentiment_counts.index + ' (' + domain + ')', sentiment_counts, label=domain)\n",
    "\n",
    "plt.title(\"Sentiment Distribution for Top 20 Domains\")\n",
    "plt.xlabel('Sentiment')\n",
    "plt.ylabel('Count')\n",
    "plt.xticks(rotation=45)\n",
    "plt.legend(title='Domain', bbox_to_anchor=(1.05, 1), loc='upper left')\n",
    "plt.grid(axis='y', linestyle='--', alpha=0.7)\n",
    "plt.tight_layout()\n",
    "plt.show()\n"
   ]
  },
  {
   "cell_type": "markdown",
   "metadata": {},
   "source": [
    "Compare Content Metadata Across Sites"
   ]
  },
  {
   "cell_type": "code",
   "execution_count": null,
   "metadata": {},
   "outputs": [],
   "source": [
    "# Descriptive statistics for content length, title length, and description length\n",
    "metadata_stats = data_df.groupby('source_name').agg({\n",
    "    'title_length': ['mean', 'std', 'min', 'max'],\n",
    "    'description_length': ['mean', 'std', 'min', 'max'],\n",
    "    'content_length': ['mean', 'std', 'min', 'max']\n",
    "})\n",
    "\n",
    "print(\"Content metadata statistics across sites:\")\n",
    "print(metadata_stats)\n"
   ]
  },
  {
   "cell_type": "markdown",
   "metadata": {},
   "source": [
    "Similarity of Raw Message Lengths Across Sites"
   ]
  },
  {
   "cell_type": "code",
   "execution_count": null,
   "metadata": {},
   "outputs": [],
   "source": [
    "# Boxplot for content lengths\n",
    "plt.figure(figsize=(14, 7))\n",
    "data_df.boxplot(column='content_length', by='source_name', vert=False)\n",
    "plt.title('Distribution of Raw Message Lengths Across Sites')\n",
    "plt.suptitle('')\n",
    "plt.xlabel('Content Length')\n",
    "plt.ylabel('Website')\n",
    "plt.show()\n"
   ]
  },
  {
   "cell_type": "markdown",
   "metadata": {},
   "source": [
    "Similarity of Number of Words in the Title Across Sites"
   ]
  },
  {
   "cell_type": "code",
   "execution_count": null,
   "metadata": {},
   "outputs": [],
   "source": [
    "# Boxplot for title lengths\n",
    "plt.figure(figsize=(14, 7))\n",
    "data_df.boxplot(column='title_length', by='source_name', vert=False)\n",
    "plt.title('Distribution of Number of Words in the Title Across Sites')\n",
    "plt.suptitle('')\n",
    "plt.xlabel('Title Length')\n",
    "plt.ylabel('Website')\n",
    "plt.show()\n"
   ]
  },
  {
   "cell_type": "markdown",
   "metadata": {},
   "source": [
    "Impact of Frequent News Reporting and Sentiment on Global Ranking"
   ]
  },
  {
   "cell_type": "code",
   "execution_count": null,
   "metadata": {},
   "outputs": [],
   "source": [
    "# Calculate mean sentiment and total reports per website\n",
    "website_stats = data_df.groupby('source_name').agg({\n",
    "    'title_sentiment': 'mean',\n",
    "    'content_length': 'count'\n",
    "}).rename(columns={'title_sentiment': 'mean_sentiment', 'content_length': 'total_reports'})\n",
    "\n",
    "# Merge with traffic data\n",
    "website_stats = website_stats.merge(traffic_data_df[['Domain', 'GlobalRank']], left_on='source_name', right_on='Domain')\n",
    "\n",
    "# Scatter plot\n",
    "plt.figure(figsize=(12, 8))\n",
    "plt.scatter(website_stats['total_reports'], website_stats['GlobalRank'], c=website_stats['mean_sentiment'], cmap='viridis', alpha=0.7)\n",
    "plt.colorbar(label='Average Sentiment')\n",
    "plt.xlabel('Total Number of Reports')\n",
    "plt.ylabel('Global Ranking')\n",
    "plt.title('Impact of News Reporting and Sentiment on Global Ranking')\n",
    "plt.show()\n"
   ]
  },
  {
   "cell_type": "markdown",
   "metadata": {},
   "source": [
    "Splitting the Data"
   ]
  },
  {
   "cell_type": "code",
   "execution_count": null,
   "metadata": {},
   "outputs": [],
   "source": []
  }
 ],
 "metadata": {
  "kernelspec": {
   "display_name": "week0",
   "language": "python",
   "name": "python3"
  },
  "language_info": {
   "codemirror_mode": {
    "name": "ipython",
    "version": 3
   },
   "file_extension": ".py",
   "mimetype": "text/x-python",
   "name": "python",
   "nbconvert_exporter": "python",
   "pygments_lexer": "ipython3",
   "version": "3.12.4"
  }
 },
 "nbformat": 4,
 "nbformat_minor": 2
}
